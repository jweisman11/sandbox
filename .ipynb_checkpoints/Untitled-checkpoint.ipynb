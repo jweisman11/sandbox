{
 "cells": [
  {
   "cell_type": "code",
   "execution_count": null,
   "metadata": {},
   "outputs": [],
   "source": [
    "import textwrap\n",
    "import click\n",
    "import requests\n",
    "from . import __version__\n",
    "API_URL = \"https://en.wikipedia.org/api/rest_v1/page/random/summary\"\n",
    "@click.command()\n",
    "@click.version_option(version=__version__)\n",
    "def main():\n",
    "    \"\"\"The hypermodern Python project.\"\"\"\n",
    "    with requests.get(API_URL) as response:\n",
    "        response.raise_for_status()\n",
    "        data = response.json()\n",
    "    title = data[\"title\"]\n",
    "    extract = data[\"extract\"]\n",
    "    click.secho(title, fg=\"green\")\n",
    "    click.echo(textwrap.fill(extract))"
   ]
  }
 ],
 "metadata": {
  "kernelspec": {
   "display_name": "Python 3",
   "language": "python",
   "name": "python3"
  },
  "language_info": {
   "codemirror_mode": {
    "name": "ipython",
    "version": 3
   },
   "file_extension": ".py",
   "mimetype": "text/x-python",
   "name": "python",
   "nbconvert_exporter": "python",
   "pygments_lexer": "ipython3",
   "version": "3.8.1"
  }
 },
 "nbformat": 4,
 "nbformat_minor": 4
}
