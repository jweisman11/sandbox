{
 "cells": [
  {
   "cell_type": "raw",
   "metadata": {},
   "source": [
    "'''\n",
    "Notebook: Simple linear regression\n",
    "Author: Jeff Weisman\n",
    "Date Created: 2021-02-22\n",
    "Description: Practicing regression\n",
    "Inspiration: None\n",
    "Note: None\n",
    "'''"
   ]
  },
  {
   "cell_type": "code",
   "execution_count": 20,
   "metadata": {},
   "outputs": [],
   "source": [
    "# Import packages\n",
    "from sklearn.datasets import make_regression\n",
    "from sklearn.linear_model import LinearRegression\n",
    "from sklearn.metrics import mean_squared_error, r2_score\n",
    "\n",
    "import plotly.graph_objects as go\n",
    "from plotly.offline import init_notebook_mode, plot"
   ]
  },
  {
   "cell_type": "code",
   "execution_count": 14,
   "metadata": {},
   "outputs": [],
   "source": [
    "# Create dataset with a single feature\n",
    "X, y, coef = make_regression(n_samples=100,\n",
    "                             n_features=1,\n",
    "                             n_informative=1,\n",
    "                             noise=10,\n",
    "                             coef=True,\n",
    "                             random_state=42)"
   ]
  },
  {
   "cell_type": "code",
   "execution_count": 17,
   "metadata": {
    "scrolled": false
   },
   "outputs": [
    {
     "data": {
      "application/vnd.plotly.v1+json": {
       "config": {
        "plotlyServerURL": "https://plot.ly"
       },
       "data": [
        {
         "mode": "markers",
         "type": "scatter",
         "x": [
          15.881067669120586,
          12.105447568794279,
          6.985805190756556,
          13.121543638492057,
          9.573165111647738,
          14.612775611078243,
          9.64363229849356,
          14.14261484611644,
          14.451719878870241,
          16.204200059598215,
          15.391903782072726,
          18.594633356028716,
          15.018757584052999,
          10.733724139456799,
          8.100367034377033,
          12.126528444242082,
          2.952019422138585,
          14.011611009229949,
          16.327037633695614,
          0,
          13.937580625066584,
          12.150306374138346,
          9.633292187950357,
          15.810057299140606,
          18.713626874760475,
          18.270897128049015,
          9.029945882968022,
          11.555928483500672,
          9.025169868883683,
          6.366418008771785,
          13.313247644263924,
          13.396366383297815,
          12.88365551947892,
          9.346932095148398,
          7.655242015096505,
          12.59656382890375,
          10.378916225863774,
          13.333477653116608,
          15.394776789150319,
          10.411624466410002,
          13.33240243716309,
          8.688787953036682,
          18.52751961761772,
          9.398318166963744,
          10.668959329654736,
          9.962546289223917,
          10.369540849269624,
          8.831015502619948,
          13.186408135514636,
          12.650241363035702,
          10.250764853285034,
          11.739020087056435,
          10.669032754022616,
          18.325661045988266,
          9.993967738811415,
          13.252897860407977,
          13.197643862977346,
          10.885838334659717,
          10.667019453120924,
          2.8272490937181383,
          13.165535523885854,
          10.706423688385414,
          6.76834637217619,
          8.576395454386397,
          5.170948724285078,
          16.048172663908748,
          4.001890034240442,
          3.159486495667686,
          9.201461808547425,
          15.148310349269371,
          15.349968928983158,
          5.3999781523177495,
          5.103833500294323,
          6.256235103628321,
          7.962962023952419,
          18.778783779155535,
          16.079031790278066,
          12.798266873751011,
          13.04047493933339,
          9.281536546804885,
          3.8313975283230723,
          12.212224836849055,
          12.482552997412123,
          5.776173207702711,
          16.443864859482044,
          11.198943565815677,
          9.616545261009069,
          11.655788492856814,
          7.186518853120063,
          11.097799106927893,
          6.568621994487323,
          17.78159403953574,
          12.018154358134977,
          9.472169189748938,
          9.656060327926054,
          20,
          5.344323321942013,
          8.496829166962472,
          11.394104270453155,
          10.333276815123831
         ],
         "y": [
          125983.27222515119,
          87782.49440618967,
          72178.8216714349,
          100710.89178638942,
          82965.04519856961,
          113919.20296455084,
          75223.51579902694,
          97813.59658806906,
          108839.24676497976,
          114408.28635718973,
          116556.8265836899,
          142371.85404124582,
          116821.79484184585,
          95937.91687124583,
          64084.09219975926,
          102023.18623839428,
          40450.658510910995,
          106690.95374813,
          112079.67282137349,
          20000,
          104635.79790175868,
          95866.54856988738,
          75664.85189612754,
          112045.20172945173,
          141010.75045338814,
          134644.93664177266,
          87183.5414561961,
          95828.02728890338,
          72804.20089006393,
          55113.53781227171,
          106838.01948915582,
          112636.91818942761,
          97722.60698543182,
          80482.2093885059,
          66697.4256484071,
          91583.24705155742,
          81420.36508897366,
          98862.8882851452,
          126372.56151169022,
          95199.05871898662,
          108406.9504011676,
          74324.7717875795,
          132972.59061949758,
          81108.44913993592,
          89314.93981388892,
          90390.49560734407,
          85200.51881913774,
          70098.2393986118,
          108852.34271918853,
          99632.83336155469,
          90393.53024358397,
          98694.1526899104,
          75269.09616109382,
          150000,
          99951.91779453088,
          109660.60470613804,
          106660.86745102264,
          94556.635368529,
          88534.72537459446,
          40510.25370379019,
          111157.91402683112,
          88138.67645698723,
          66206.27436799165,
          72862.72351441432,
          53600.070105492036,
          124134.79037489247,
          44759.11003921654,
          41245.28781289837,
          79390.9345873711,
          123028.19353559933,
          121983.49932047931,
          54443.911634235476,
          52917.21275846776,
          67592.43846110851,
          80266.91107814935,
          129566.69561312126,
          127308.69928497677,
          101085.39899768053,
          96048.06847806627,
          74967.60236324332,
          51203.864890685334,
          101862.77943699843,
          92850.04464977134,
          63369.857388384415,
          125296.8806410885,
          94967.1087390267,
          81682.05812494707,
          90650.16852914705,
          70558.53357415841,
          88663.09496244072,
          58904.10283346286,
          137963.67884659377,
          100688.87169022972,
          80735.72027775682,
          79790.30560801133,
          143126.41513029725,
          49545.29397417707,
          69677.63723169794,
          96826.15065813724,
          80554.18872490441
         ]
        }
       ],
       "layout": {
        "autosize": false,
        "height": 500,
        "template": {
         "data": {
          "bar": [
           {
            "error_x": {
             "color": "#2a3f5f"
            },
            "error_y": {
             "color": "#2a3f5f"
            },
            "marker": {
             "line": {
              "color": "#E5ECF6",
              "width": 0.5
             }
            },
            "type": "bar"
           }
          ],
          "barpolar": [
           {
            "marker": {
             "line": {
              "color": "#E5ECF6",
              "width": 0.5
             }
            },
            "type": "barpolar"
           }
          ],
          "carpet": [
           {
            "aaxis": {
             "endlinecolor": "#2a3f5f",
             "gridcolor": "white",
             "linecolor": "white",
             "minorgridcolor": "white",
             "startlinecolor": "#2a3f5f"
            },
            "baxis": {
             "endlinecolor": "#2a3f5f",
             "gridcolor": "white",
             "linecolor": "white",
             "minorgridcolor": "white",
             "startlinecolor": "#2a3f5f"
            },
            "type": "carpet"
           }
          ],
          "choropleth": [
           {
            "colorbar": {
             "outlinewidth": 0,
             "ticks": ""
            },
            "type": "choropleth"
           }
          ],
          "contour": [
           {
            "colorbar": {
             "outlinewidth": 0,
             "ticks": ""
            },
            "colorscale": [
             [
              0,
              "#0d0887"
             ],
             [
              0.1111111111111111,
              "#46039f"
             ],
             [
              0.2222222222222222,
              "#7201a8"
             ],
             [
              0.3333333333333333,
              "#9c179e"
             ],
             [
              0.4444444444444444,
              "#bd3786"
             ],
             [
              0.5555555555555556,
              "#d8576b"
             ],
             [
              0.6666666666666666,
              "#ed7953"
             ],
             [
              0.7777777777777778,
              "#fb9f3a"
             ],
             [
              0.8888888888888888,
              "#fdca26"
             ],
             [
              1,
              "#f0f921"
             ]
            ],
            "type": "contour"
           }
          ],
          "contourcarpet": [
           {
            "colorbar": {
             "outlinewidth": 0,
             "ticks": ""
            },
            "type": "contourcarpet"
           }
          ],
          "heatmap": [
           {
            "colorbar": {
             "outlinewidth": 0,
             "ticks": ""
            },
            "colorscale": [
             [
              0,
              "#0d0887"
             ],
             [
              0.1111111111111111,
              "#46039f"
             ],
             [
              0.2222222222222222,
              "#7201a8"
             ],
             [
              0.3333333333333333,
              "#9c179e"
             ],
             [
              0.4444444444444444,
              "#bd3786"
             ],
             [
              0.5555555555555556,
              "#d8576b"
             ],
             [
              0.6666666666666666,
              "#ed7953"
             ],
             [
              0.7777777777777778,
              "#fb9f3a"
             ],
             [
              0.8888888888888888,
              "#fdca26"
             ],
             [
              1,
              "#f0f921"
             ]
            ],
            "type": "heatmap"
           }
          ],
          "heatmapgl": [
           {
            "colorbar": {
             "outlinewidth": 0,
             "ticks": ""
            },
            "colorscale": [
             [
              0,
              "#0d0887"
             ],
             [
              0.1111111111111111,
              "#46039f"
             ],
             [
              0.2222222222222222,
              "#7201a8"
             ],
             [
              0.3333333333333333,
              "#9c179e"
             ],
             [
              0.4444444444444444,
              "#bd3786"
             ],
             [
              0.5555555555555556,
              "#d8576b"
             ],
             [
              0.6666666666666666,
              "#ed7953"
             ],
             [
              0.7777777777777778,
              "#fb9f3a"
             ],
             [
              0.8888888888888888,
              "#fdca26"
             ],
             [
              1,
              "#f0f921"
             ]
            ],
            "type": "heatmapgl"
           }
          ],
          "histogram": [
           {
            "marker": {
             "colorbar": {
              "outlinewidth": 0,
              "ticks": ""
             }
            },
            "type": "histogram"
           }
          ],
          "histogram2d": [
           {
            "colorbar": {
             "outlinewidth": 0,
             "ticks": ""
            },
            "colorscale": [
             [
              0,
              "#0d0887"
             ],
             [
              0.1111111111111111,
              "#46039f"
             ],
             [
              0.2222222222222222,
              "#7201a8"
             ],
             [
              0.3333333333333333,
              "#9c179e"
             ],
             [
              0.4444444444444444,
              "#bd3786"
             ],
             [
              0.5555555555555556,
              "#d8576b"
             ],
             [
              0.6666666666666666,
              "#ed7953"
             ],
             [
              0.7777777777777778,
              "#fb9f3a"
             ],
             [
              0.8888888888888888,
              "#fdca26"
             ],
             [
              1,
              "#f0f921"
             ]
            ],
            "type": "histogram2d"
           }
          ],
          "histogram2dcontour": [
           {
            "colorbar": {
             "outlinewidth": 0,
             "ticks": ""
            },
            "colorscale": [
             [
              0,
              "#0d0887"
             ],
             [
              0.1111111111111111,
              "#46039f"
             ],
             [
              0.2222222222222222,
              "#7201a8"
             ],
             [
              0.3333333333333333,
              "#9c179e"
             ],
             [
              0.4444444444444444,
              "#bd3786"
             ],
             [
              0.5555555555555556,
              "#d8576b"
             ],
             [
              0.6666666666666666,
              "#ed7953"
             ],
             [
              0.7777777777777778,
              "#fb9f3a"
             ],
             [
              0.8888888888888888,
              "#fdca26"
             ],
             [
              1,
              "#f0f921"
             ]
            ],
            "type": "histogram2dcontour"
           }
          ],
          "mesh3d": [
           {
            "colorbar": {
             "outlinewidth": 0,
             "ticks": ""
            },
            "type": "mesh3d"
           }
          ],
          "parcoords": [
           {
            "line": {
             "colorbar": {
              "outlinewidth": 0,
              "ticks": ""
             }
            },
            "type": "parcoords"
           }
          ],
          "pie": [
           {
            "automargin": true,
            "type": "pie"
           }
          ],
          "scatter": [
           {
            "marker": {
             "colorbar": {
              "outlinewidth": 0,
              "ticks": ""
             }
            },
            "type": "scatter"
           }
          ],
          "scatter3d": [
           {
            "line": {
             "colorbar": {
              "outlinewidth": 0,
              "ticks": ""
             }
            },
            "marker": {
             "colorbar": {
              "outlinewidth": 0,
              "ticks": ""
             }
            },
            "type": "scatter3d"
           }
          ],
          "scattercarpet": [
           {
            "marker": {
             "colorbar": {
              "outlinewidth": 0,
              "ticks": ""
             }
            },
            "type": "scattercarpet"
           }
          ],
          "scattergeo": [
           {
            "marker": {
             "colorbar": {
              "outlinewidth": 0,
              "ticks": ""
             }
            },
            "type": "scattergeo"
           }
          ],
          "scattergl": [
           {
            "marker": {
             "colorbar": {
              "outlinewidth": 0,
              "ticks": ""
             }
            },
            "type": "scattergl"
           }
          ],
          "scattermapbox": [
           {
            "marker": {
             "colorbar": {
              "outlinewidth": 0,
              "ticks": ""
             }
            },
            "type": "scattermapbox"
           }
          ],
          "scatterpolar": [
           {
            "marker": {
             "colorbar": {
              "outlinewidth": 0,
              "ticks": ""
             }
            },
            "type": "scatterpolar"
           }
          ],
          "scatterpolargl": [
           {
            "marker": {
             "colorbar": {
              "outlinewidth": 0,
              "ticks": ""
             }
            },
            "type": "scatterpolargl"
           }
          ],
          "scatterternary": [
           {
            "marker": {
             "colorbar": {
              "outlinewidth": 0,
              "ticks": ""
             }
            },
            "type": "scatterternary"
           }
          ],
          "surface": [
           {
            "colorbar": {
             "outlinewidth": 0,
             "ticks": ""
            },
            "colorscale": [
             [
              0,
              "#0d0887"
             ],
             [
              0.1111111111111111,
              "#46039f"
             ],
             [
              0.2222222222222222,
              "#7201a8"
             ],
             [
              0.3333333333333333,
              "#9c179e"
             ],
             [
              0.4444444444444444,
              "#bd3786"
             ],
             [
              0.5555555555555556,
              "#d8576b"
             ],
             [
              0.6666666666666666,
              "#ed7953"
             ],
             [
              0.7777777777777778,
              "#fb9f3a"
             ],
             [
              0.8888888888888888,
              "#fdca26"
             ],
             [
              1,
              "#f0f921"
             ]
            ],
            "type": "surface"
           }
          ],
          "table": [
           {
            "cells": {
             "fill": {
              "color": "#EBF0F8"
             },
             "line": {
              "color": "white"
             }
            },
            "header": {
             "fill": {
              "color": "#C8D4E3"
             },
             "line": {
              "color": "white"
             }
            },
            "type": "table"
           }
          ]
         },
         "layout": {
          "annotationdefaults": {
           "arrowcolor": "#2a3f5f",
           "arrowhead": 0,
           "arrowwidth": 1
          },
          "coloraxis": {
           "colorbar": {
            "outlinewidth": 0,
            "ticks": ""
           }
          },
          "colorscale": {
           "diverging": [
            [
             0,
             "#8e0152"
            ],
            [
             0.1,
             "#c51b7d"
            ],
            [
             0.2,
             "#de77ae"
            ],
            [
             0.3,
             "#f1b6da"
            ],
            [
             0.4,
             "#fde0ef"
            ],
            [
             0.5,
             "#f7f7f7"
            ],
            [
             0.6,
             "#e6f5d0"
            ],
            [
             0.7,
             "#b8e186"
            ],
            [
             0.8,
             "#7fbc41"
            ],
            [
             0.9,
             "#4d9221"
            ],
            [
             1,
             "#276419"
            ]
           ],
           "sequential": [
            [
             0,
             "#0d0887"
            ],
            [
             0.1111111111111111,
             "#46039f"
            ],
            [
             0.2222222222222222,
             "#7201a8"
            ],
            [
             0.3333333333333333,
             "#9c179e"
            ],
            [
             0.4444444444444444,
             "#bd3786"
            ],
            [
             0.5555555555555556,
             "#d8576b"
            ],
            [
             0.6666666666666666,
             "#ed7953"
            ],
            [
             0.7777777777777778,
             "#fb9f3a"
            ],
            [
             0.8888888888888888,
             "#fdca26"
            ],
            [
             1,
             "#f0f921"
            ]
           ],
           "sequentialminus": [
            [
             0,
             "#0d0887"
            ],
            [
             0.1111111111111111,
             "#46039f"
            ],
            [
             0.2222222222222222,
             "#7201a8"
            ],
            [
             0.3333333333333333,
             "#9c179e"
            ],
            [
             0.4444444444444444,
             "#bd3786"
            ],
            [
             0.5555555555555556,
             "#d8576b"
            ],
            [
             0.6666666666666666,
             "#ed7953"
            ],
            [
             0.7777777777777778,
             "#fb9f3a"
            ],
            [
             0.8888888888888888,
             "#fdca26"
            ],
            [
             1,
             "#f0f921"
            ]
           ]
          },
          "colorway": [
           "#636efa",
           "#EF553B",
           "#00cc96",
           "#ab63fa",
           "#FFA15A",
           "#19d3f3",
           "#FF6692",
           "#B6E880",
           "#FF97FF",
           "#FECB52"
          ],
          "font": {
           "color": "#2a3f5f"
          },
          "geo": {
           "bgcolor": "white",
           "lakecolor": "white",
           "landcolor": "#E5ECF6",
           "showlakes": true,
           "showland": true,
           "subunitcolor": "white"
          },
          "hoverlabel": {
           "align": "left"
          },
          "hovermode": "closest",
          "mapbox": {
           "style": "light"
          },
          "paper_bgcolor": "white",
          "plot_bgcolor": "#E5ECF6",
          "polar": {
           "angularaxis": {
            "gridcolor": "white",
            "linecolor": "white",
            "ticks": ""
           },
           "bgcolor": "#E5ECF6",
           "radialaxis": {
            "gridcolor": "white",
            "linecolor": "white",
            "ticks": ""
           }
          },
          "scene": {
           "xaxis": {
            "backgroundcolor": "#E5ECF6",
            "gridcolor": "white",
            "gridwidth": 2,
            "linecolor": "white",
            "showbackground": true,
            "ticks": "",
            "zerolinecolor": "white"
           },
           "yaxis": {
            "backgroundcolor": "#E5ECF6",
            "gridcolor": "white",
            "gridwidth": 2,
            "linecolor": "white",
            "showbackground": true,
            "ticks": "",
            "zerolinecolor": "white"
           },
           "zaxis": {
            "backgroundcolor": "#E5ECF6",
            "gridcolor": "white",
            "gridwidth": 2,
            "linecolor": "white",
            "showbackground": true,
            "ticks": "",
            "zerolinecolor": "white"
           }
          },
          "shapedefaults": {
           "line": {
            "color": "#2a3f5f"
           }
          },
          "ternary": {
           "aaxis": {
            "gridcolor": "white",
            "linecolor": "white",
            "ticks": ""
           },
           "baxis": {
            "gridcolor": "white",
            "linecolor": "white",
            "ticks": ""
           },
           "bgcolor": "#E5ECF6",
           "caxis": {
            "gridcolor": "white",
            "linecolor": "white",
            "ticks": ""
           }
          },
          "title": {
           "x": 0.05
          },
          "xaxis": {
           "automargin": true,
           "gridcolor": "white",
           "linecolor": "white",
           "ticks": "",
           "title": {
            "standoff": 15
           },
           "zerolinecolor": "white",
           "zerolinewidth": 2
          },
          "yaxis": {
           "automargin": true,
           "gridcolor": "white",
           "linecolor": "white",
           "ticks": "",
           "title": {
            "standoff": 15
           },
           "zerolinecolor": "white",
           "zerolinewidth": 2
          }
         }
        },
        "title": {
         "text": "Mock Regression Dataset"
        },
        "width": 500,
        "xaxis": {
         "title": {
          "text": "Feature 1 - Years of Experience"
         }
        },
        "yaxis": {
         "title": {
          "text": "Target Variable - Salary"
         }
        }
       }
      },
      "text/html": [
       "<div>                            <div id=\"02078da3-a053-447b-a147-f5588d699459\" class=\"plotly-graph-div\" style=\"height:500px; width:500px;\"></div>            <script type=\"text/javascript\">                require([\"plotly\"], function(Plotly) {                    window.PLOTLYENV=window.PLOTLYENV || {};                                    if (document.getElementById(\"02078da3-a053-447b-a147-f5588d699459\")) {                    Plotly.newPlot(                        \"02078da3-a053-447b-a147-f5588d699459\",                        [{\"mode\": \"markers\", \"type\": \"scatter\", \"x\": [15.881067669120586, 12.105447568794279, 6.985805190756556, 13.121543638492057, 9.573165111647738, 14.612775611078243, 9.64363229849356, 14.14261484611644, 14.451719878870241, 16.204200059598215, 15.391903782072726, 18.594633356028716, 15.018757584052999, 10.733724139456799, 8.100367034377033, 12.126528444242082, 2.952019422138585, 14.011611009229949, 16.327037633695614, 0.0, 13.937580625066584, 12.150306374138346, 9.633292187950357, 15.810057299140606, 18.713626874760475, 18.270897128049015, 9.029945882968022, 11.555928483500672, 9.025169868883683, 6.366418008771785, 13.313247644263924, 13.396366383297815, 12.88365551947892, 9.346932095148398, 7.655242015096505, 12.59656382890375, 10.378916225863774, 13.333477653116608, 15.394776789150319, 10.411624466410002, 13.33240243716309, 8.688787953036682, 18.52751961761772, 9.398318166963744, 10.668959329654736, 9.962546289223917, 10.369540849269624, 8.831015502619948, 13.186408135514636, 12.650241363035702, 10.250764853285034, 11.739020087056435, 10.669032754022616, 18.325661045988266, 9.993967738811415, 13.252897860407977, 13.197643862977346, 10.885838334659717, 10.667019453120924, 2.8272490937181383, 13.165535523885854, 10.706423688385414, 6.76834637217619, 8.576395454386397, 5.170948724285078, 16.048172663908748, 4.001890034240442, 3.159486495667686, 9.201461808547425, 15.148310349269371, 15.349968928983158, 5.3999781523177495, 5.103833500294323, 6.256235103628321, 7.962962023952419, 18.778783779155535, 16.079031790278066, 12.798266873751011, 13.04047493933339, 9.281536546804885, 3.8313975283230723, 12.212224836849055, 12.482552997412123, 5.776173207702711, 16.443864859482044, 11.198943565815677, 9.616545261009069, 11.655788492856814, 7.186518853120063, 11.097799106927893, 6.568621994487323, 17.78159403953574, 12.018154358134977, 9.472169189748938, 9.656060327926054, 20.0, 5.344323321942013, 8.496829166962472, 11.394104270453155, 10.333276815123831], \"y\": [125983.27222515119, 87782.49440618967, 72178.8216714349, 100710.89178638942, 82965.04519856961, 113919.20296455084, 75223.51579902694, 97813.59658806906, 108839.24676497976, 114408.28635718973, 116556.8265836899, 142371.85404124582, 116821.79484184585, 95937.91687124583, 64084.09219975926, 102023.18623839428, 40450.658510910995, 106690.95374813, 112079.67282137349, 20000.0, 104635.79790175868, 95866.54856988738, 75664.85189612754, 112045.20172945173, 141010.75045338814, 134644.93664177266, 87183.5414561961, 95828.02728890338, 72804.20089006393, 55113.53781227171, 106838.01948915582, 112636.91818942761, 97722.60698543182, 80482.2093885059, 66697.4256484071, 91583.24705155742, 81420.36508897366, 98862.8882851452, 126372.56151169022, 95199.05871898662, 108406.9504011676, 74324.7717875795, 132972.59061949758, 81108.44913993592, 89314.93981388892, 90390.49560734407, 85200.51881913774, 70098.2393986118, 108852.34271918853, 99632.83336155469, 90393.53024358397, 98694.1526899104, 75269.09616109382, 150000.0, 99951.91779453088, 109660.60470613804, 106660.86745102264, 94556.635368529, 88534.72537459446, 40510.25370379019, 111157.91402683112, 88138.67645698723, 66206.27436799165, 72862.72351441432, 53600.070105492036, 124134.79037489247, 44759.11003921654, 41245.28781289837, 79390.9345873711, 123028.19353559933, 121983.49932047931, 54443.911634235476, 52917.21275846776, 67592.43846110851, 80266.91107814935, 129566.69561312126, 127308.69928497677, 101085.39899768053, 96048.06847806627, 74967.60236324332, 51203.864890685334, 101862.77943699843, 92850.04464977134, 63369.857388384415, 125296.8806410885, 94967.1087390267, 81682.05812494707, 90650.16852914705, 70558.53357415841, 88663.09496244072, 58904.10283346286, 137963.67884659377, 100688.87169022972, 80735.72027775682, 79790.30560801133, 143126.41513029725, 49545.29397417707, 69677.63723169794, 96826.15065813724, 80554.18872490441]}],                        {\"autosize\": false, \"height\": 500, \"template\": {\"data\": {\"bar\": [{\"error_x\": {\"color\": \"#2a3f5f\"}, \"error_y\": {\"color\": \"#2a3f5f\"}, \"marker\": {\"line\": {\"color\": \"#E5ECF6\", \"width\": 0.5}}, \"type\": \"bar\"}], \"barpolar\": [{\"marker\": {\"line\": {\"color\": \"#E5ECF6\", \"width\": 0.5}}, \"type\": \"barpolar\"}], \"carpet\": [{\"aaxis\": {\"endlinecolor\": \"#2a3f5f\", \"gridcolor\": \"white\", \"linecolor\": \"white\", \"minorgridcolor\": \"white\", \"startlinecolor\": \"#2a3f5f\"}, \"baxis\": {\"endlinecolor\": \"#2a3f5f\", \"gridcolor\": \"white\", \"linecolor\": \"white\", \"minorgridcolor\": \"white\", \"startlinecolor\": \"#2a3f5f\"}, \"type\": \"carpet\"}], \"choropleth\": [{\"colorbar\": {\"outlinewidth\": 0, \"ticks\": \"\"}, \"type\": \"choropleth\"}], \"contour\": [{\"colorbar\": {\"outlinewidth\": 0, \"ticks\": \"\"}, \"colorscale\": [[0.0, \"#0d0887\"], [0.1111111111111111, \"#46039f\"], [0.2222222222222222, \"#7201a8\"], [0.3333333333333333, \"#9c179e\"], [0.4444444444444444, \"#bd3786\"], [0.5555555555555556, \"#d8576b\"], [0.6666666666666666, \"#ed7953\"], [0.7777777777777778, \"#fb9f3a\"], [0.8888888888888888, \"#fdca26\"], [1.0, \"#f0f921\"]], \"type\": \"contour\"}], \"contourcarpet\": [{\"colorbar\": {\"outlinewidth\": 0, \"ticks\": \"\"}, \"type\": \"contourcarpet\"}], \"heatmap\": [{\"colorbar\": {\"outlinewidth\": 0, \"ticks\": \"\"}, \"colorscale\": [[0.0, \"#0d0887\"], [0.1111111111111111, \"#46039f\"], [0.2222222222222222, \"#7201a8\"], [0.3333333333333333, \"#9c179e\"], [0.4444444444444444, \"#bd3786\"], [0.5555555555555556, \"#d8576b\"], [0.6666666666666666, \"#ed7953\"], [0.7777777777777778, \"#fb9f3a\"], [0.8888888888888888, \"#fdca26\"], [1.0, \"#f0f921\"]], \"type\": \"heatmap\"}], \"heatmapgl\": [{\"colorbar\": {\"outlinewidth\": 0, \"ticks\": \"\"}, \"colorscale\": [[0.0, \"#0d0887\"], [0.1111111111111111, \"#46039f\"], [0.2222222222222222, \"#7201a8\"], [0.3333333333333333, \"#9c179e\"], [0.4444444444444444, \"#bd3786\"], [0.5555555555555556, \"#d8576b\"], [0.6666666666666666, \"#ed7953\"], [0.7777777777777778, \"#fb9f3a\"], [0.8888888888888888, \"#fdca26\"], [1.0, \"#f0f921\"]], \"type\": \"heatmapgl\"}], \"histogram\": [{\"marker\": {\"colorbar\": {\"outlinewidth\": 0, \"ticks\": \"\"}}, \"type\": \"histogram\"}], \"histogram2d\": [{\"colorbar\": {\"outlinewidth\": 0, \"ticks\": \"\"}, \"colorscale\": [[0.0, \"#0d0887\"], [0.1111111111111111, \"#46039f\"], [0.2222222222222222, \"#7201a8\"], [0.3333333333333333, \"#9c179e\"], [0.4444444444444444, \"#bd3786\"], [0.5555555555555556, \"#d8576b\"], [0.6666666666666666, \"#ed7953\"], [0.7777777777777778, \"#fb9f3a\"], [0.8888888888888888, \"#fdca26\"], [1.0, \"#f0f921\"]], \"type\": \"histogram2d\"}], \"histogram2dcontour\": [{\"colorbar\": {\"outlinewidth\": 0, \"ticks\": \"\"}, \"colorscale\": [[0.0, \"#0d0887\"], [0.1111111111111111, \"#46039f\"], [0.2222222222222222, \"#7201a8\"], [0.3333333333333333, \"#9c179e\"], [0.4444444444444444, \"#bd3786\"], [0.5555555555555556, \"#d8576b\"], [0.6666666666666666, \"#ed7953\"], [0.7777777777777778, \"#fb9f3a\"], [0.8888888888888888, \"#fdca26\"], [1.0, \"#f0f921\"]], \"type\": \"histogram2dcontour\"}], \"mesh3d\": [{\"colorbar\": {\"outlinewidth\": 0, \"ticks\": \"\"}, \"type\": \"mesh3d\"}], \"parcoords\": [{\"line\": {\"colorbar\": {\"outlinewidth\": 0, \"ticks\": \"\"}}, \"type\": \"parcoords\"}], \"pie\": [{\"automargin\": true, \"type\": \"pie\"}], \"scatter\": [{\"marker\": {\"colorbar\": {\"outlinewidth\": 0, \"ticks\": \"\"}}, \"type\": \"scatter\"}], \"scatter3d\": [{\"line\": {\"colorbar\": {\"outlinewidth\": 0, \"ticks\": \"\"}}, \"marker\": {\"colorbar\": {\"outlinewidth\": 0, \"ticks\": \"\"}}, \"type\": \"scatter3d\"}], \"scattercarpet\": [{\"marker\": {\"colorbar\": {\"outlinewidth\": 0, \"ticks\": \"\"}}, \"type\": \"scattercarpet\"}], \"scattergeo\": [{\"marker\": {\"colorbar\": {\"outlinewidth\": 0, \"ticks\": \"\"}}, \"type\": \"scattergeo\"}], \"scattergl\": [{\"marker\": {\"colorbar\": {\"outlinewidth\": 0, \"ticks\": \"\"}}, \"type\": \"scattergl\"}], \"scattermapbox\": [{\"marker\": {\"colorbar\": {\"outlinewidth\": 0, \"ticks\": \"\"}}, \"type\": \"scattermapbox\"}], \"scatterpolar\": [{\"marker\": {\"colorbar\": {\"outlinewidth\": 0, \"ticks\": \"\"}}, \"type\": \"scatterpolar\"}], \"scatterpolargl\": [{\"marker\": {\"colorbar\": {\"outlinewidth\": 0, \"ticks\": \"\"}}, \"type\": \"scatterpolargl\"}], \"scatterternary\": [{\"marker\": {\"colorbar\": {\"outlinewidth\": 0, \"ticks\": \"\"}}, \"type\": \"scatterternary\"}], \"surface\": [{\"colorbar\": {\"outlinewidth\": 0, \"ticks\": \"\"}, \"colorscale\": [[0.0, \"#0d0887\"], [0.1111111111111111, \"#46039f\"], [0.2222222222222222, \"#7201a8\"], [0.3333333333333333, \"#9c179e\"], [0.4444444444444444, \"#bd3786\"], [0.5555555555555556, \"#d8576b\"], [0.6666666666666666, \"#ed7953\"], [0.7777777777777778, \"#fb9f3a\"], [0.8888888888888888, \"#fdca26\"], [1.0, \"#f0f921\"]], \"type\": \"surface\"}], \"table\": [{\"cells\": {\"fill\": {\"color\": \"#EBF0F8\"}, \"line\": {\"color\": \"white\"}}, \"header\": {\"fill\": {\"color\": \"#C8D4E3\"}, \"line\": {\"color\": \"white\"}}, \"type\": \"table\"}]}, \"layout\": {\"annotationdefaults\": {\"arrowcolor\": \"#2a3f5f\", \"arrowhead\": 0, \"arrowwidth\": 1}, \"coloraxis\": {\"colorbar\": {\"outlinewidth\": 0, \"ticks\": \"\"}}, \"colorscale\": {\"diverging\": [[0, \"#8e0152\"], [0.1, \"#c51b7d\"], [0.2, \"#de77ae\"], [0.3, \"#f1b6da\"], [0.4, \"#fde0ef\"], [0.5, \"#f7f7f7\"], [0.6, \"#e6f5d0\"], [0.7, \"#b8e186\"], [0.8, \"#7fbc41\"], [0.9, \"#4d9221\"], [1, \"#276419\"]], \"sequential\": [[0.0, \"#0d0887\"], [0.1111111111111111, \"#46039f\"], [0.2222222222222222, \"#7201a8\"], [0.3333333333333333, \"#9c179e\"], [0.4444444444444444, \"#bd3786\"], [0.5555555555555556, \"#d8576b\"], [0.6666666666666666, \"#ed7953\"], [0.7777777777777778, \"#fb9f3a\"], [0.8888888888888888, \"#fdca26\"], [1.0, \"#f0f921\"]], \"sequentialminus\": [[0.0, \"#0d0887\"], [0.1111111111111111, \"#46039f\"], [0.2222222222222222, \"#7201a8\"], [0.3333333333333333, \"#9c179e\"], [0.4444444444444444, \"#bd3786\"], [0.5555555555555556, \"#d8576b\"], [0.6666666666666666, \"#ed7953\"], [0.7777777777777778, \"#fb9f3a\"], [0.8888888888888888, \"#fdca26\"], [1.0, \"#f0f921\"]]}, \"colorway\": [\"#636efa\", \"#EF553B\", \"#00cc96\", \"#ab63fa\", \"#FFA15A\", \"#19d3f3\", \"#FF6692\", \"#B6E880\", \"#FF97FF\", \"#FECB52\"], \"font\": {\"color\": \"#2a3f5f\"}, \"geo\": {\"bgcolor\": \"white\", \"lakecolor\": \"white\", \"landcolor\": \"#E5ECF6\", \"showlakes\": true, \"showland\": true, \"subunitcolor\": \"white\"}, \"hoverlabel\": {\"align\": \"left\"}, \"hovermode\": \"closest\", \"mapbox\": {\"style\": \"light\"}, \"paper_bgcolor\": \"white\", \"plot_bgcolor\": \"#E5ECF6\", \"polar\": {\"angularaxis\": {\"gridcolor\": \"white\", \"linecolor\": \"white\", \"ticks\": \"\"}, \"bgcolor\": \"#E5ECF6\", \"radialaxis\": {\"gridcolor\": \"white\", \"linecolor\": \"white\", \"ticks\": \"\"}}, \"scene\": {\"xaxis\": {\"backgroundcolor\": \"#E5ECF6\", \"gridcolor\": \"white\", \"gridwidth\": 2, \"linecolor\": \"white\", \"showbackground\": true, \"ticks\": \"\", \"zerolinecolor\": \"white\"}, \"yaxis\": {\"backgroundcolor\": \"#E5ECF6\", \"gridcolor\": \"white\", \"gridwidth\": 2, \"linecolor\": \"white\", \"showbackground\": true, \"ticks\": \"\", \"zerolinecolor\": \"white\"}, \"zaxis\": {\"backgroundcolor\": \"#E5ECF6\", \"gridcolor\": \"white\", \"gridwidth\": 2, \"linecolor\": \"white\", \"showbackground\": true, \"ticks\": \"\", \"zerolinecolor\": \"white\"}}, \"shapedefaults\": {\"line\": {\"color\": \"#2a3f5f\"}}, \"ternary\": {\"aaxis\": {\"gridcolor\": \"white\", \"linecolor\": \"white\", \"ticks\": \"\"}, \"baxis\": {\"gridcolor\": \"white\", \"linecolor\": \"white\", \"ticks\": \"\"}, \"bgcolor\": \"#E5ECF6\", \"caxis\": {\"gridcolor\": \"white\", \"linecolor\": \"white\", \"ticks\": \"\"}}, \"title\": {\"x\": 0.05}, \"xaxis\": {\"automargin\": true, \"gridcolor\": \"white\", \"linecolor\": \"white\", \"ticks\": \"\", \"title\": {\"standoff\": 15}, \"zerolinecolor\": \"white\", \"zerolinewidth\": 2}, \"yaxis\": {\"automargin\": true, \"gridcolor\": \"white\", \"linecolor\": \"white\", \"ticks\": \"\", \"title\": {\"standoff\": 15}, \"zerolinecolor\": \"white\", \"zerolinewidth\": 2}}}, \"title\": {\"text\": \"Mock Regression Dataset\"}, \"width\": 500, \"xaxis\": {\"title\": {\"text\": \"Feature 1 - Years of Experience\"}}, \"yaxis\": {\"title\": {\"text\": \"Target Variable - Salary\"}}},                        {\"responsive\": true}                    ).then(function(){\n",
       "                            \n",
       "var gd = document.getElementById('02078da3-a053-447b-a147-f5588d699459');\n",
       "var x = new MutationObserver(function (mutations, observer) {{\n",
       "        var display = window.getComputedStyle(gd).display;\n",
       "        if (!display || display === 'none') {{\n",
       "            console.log([gd, 'removed!']);\n",
       "            Plotly.purge(gd);\n",
       "            observer.disconnect();\n",
       "        }}\n",
       "}});\n",
       "\n",
       "// Listen for the removal of the full notebook cells\n",
       "var notebookContainer = gd.closest('#notebook-container');\n",
       "if (notebookContainer) {{\n",
       "    x.observe(notebookContainer, {childList: true});\n",
       "}}\n",
       "\n",
       "// Listen for the clearing of the current output cell\n",
       "var outputEl = gd.closest('.output');\n",
       "if (outputEl) {{\n",
       "    x.observe(outputEl, {childList: true});\n",
       "}}\n",
       "\n",
       "                        })                };                });            </script>        </div>"
      ]
     },
     "metadata": {},
     "output_type": "display_data"
    }
   ],
   "source": [
    "# Visualize the feature vs target after linear interpolation\n",
    "X = np.interp(X, (X.min(), X.max()), (0, 20))\n",
    "y = np.interp(y, (y.min(), y.max()), (20000, 150000))\n",
    "\n",
    "X_list = [j for i in X for j in i] # required to make plotly work\n",
    "fig = go.Figure(data=go.Scatter(x=X_list, y=y.tolist(), mode='markers'))\n",
    "fig.update_layout(\n",
    "    title='Mock Regression Dataset',\n",
    "    xaxis_title='Feature 1 - Years of Experience',\n",
    "    yaxis_title='Target Variable - Salary',\n",
    "    autosize=False,\n",
    "    width=500,\n",
    "    height=500)\n",
    "fig.show()"
   ]
  },
  {
   "cell_type": "code",
   "execution_count": 18,
   "metadata": {},
   "outputs": [
    {
     "data": {
      "text/plain": [
       "LinearRegression(n_jobs=-1)"
      ]
     },
     "execution_count": 18,
     "metadata": {},
     "output_type": "execute_result"
    }
   ],
   "source": [
    "# Fit LR model\n",
    "regr = LinearRegression(n_jobs=-1)\n",
    "regr.fit(X, y)"
   ]
  },
  {
   "cell_type": "code",
   "execution_count": 26,
   "metadata": {},
   "outputs": [],
   "source": [
    "# Make predictions\n",
    "y_pred = regr.predict(X)"
   ]
  },
  {
   "cell_type": "code",
   "execution_count": 40,
   "metadata": {},
   "outputs": [
    {
     "name": "stdout",
     "output_type": "stream",
     "text": [
      "LR Coefficients: 21744.447838229564\n",
      "LR Coefficients: [6238.30119633]\n"
     ]
    }
   ],
   "source": [
    "print(f'LR Coefficients: {regr.intercept_}')\n",
    "print(f'LR Coefficients: {regr.coef_}')"
   ]
  },
  {
   "cell_type": "code",
   "execution_count": 37,
   "metadata": {},
   "outputs": [
    {
     "data": {
      "application/vnd.plotly.v1+json": {
       "config": {
        "plotlyServerURL": "https://plot.ly"
       },
       "data": [
        {
         "mode": "markers",
         "type": "scatter",
         "x": [
          15.881067669120586,
          12.105447568794279,
          6.985805190756556,
          13.121543638492057,
          9.573165111647738,
          14.612775611078243,
          9.64363229849356,
          14.14261484611644,
          14.451719878870241,
          16.204200059598215,
          15.391903782072726,
          18.594633356028716,
          15.018757584052999,
          10.733724139456799,
          8.100367034377033,
          12.126528444242082,
          2.952019422138585,
          14.011611009229949,
          16.327037633695614,
          0,
          13.937580625066584,
          12.150306374138346,
          9.633292187950357,
          15.810057299140606,
          18.713626874760475,
          18.270897128049015,
          9.029945882968022,
          11.555928483500672,
          9.025169868883683,
          6.366418008771785,
          13.313247644263924,
          13.396366383297815,
          12.88365551947892,
          9.346932095148398,
          7.655242015096505,
          12.59656382890375,
          10.378916225863774,
          13.333477653116608,
          15.394776789150319,
          10.411624466410002,
          13.33240243716309,
          8.688787953036682,
          18.52751961761772,
          9.398318166963744,
          10.668959329654736,
          9.962546289223917,
          10.369540849269624,
          8.831015502619948,
          13.186408135514636,
          12.650241363035702,
          10.250764853285034,
          11.739020087056435,
          10.669032754022616,
          18.325661045988266,
          9.993967738811415,
          13.252897860407977,
          13.197643862977346,
          10.885838334659717,
          10.667019453120924,
          2.8272490937181383,
          13.165535523885854,
          10.706423688385414,
          6.76834637217619,
          8.576395454386397,
          5.170948724285078,
          16.048172663908748,
          4.001890034240442,
          3.159486495667686,
          9.201461808547425,
          15.148310349269371,
          15.349968928983158,
          5.3999781523177495,
          5.103833500294323,
          6.256235103628321,
          7.962962023952419,
          18.778783779155535,
          16.079031790278066,
          12.798266873751011,
          13.04047493933339,
          9.281536546804885,
          3.8313975283230723,
          12.212224836849055,
          12.482552997412123,
          5.776173207702711,
          16.443864859482044,
          11.198943565815677,
          9.616545261009069,
          11.655788492856814,
          7.186518853120063,
          11.097799106927893,
          6.568621994487323,
          17.78159403953574,
          12.018154358134977,
          9.472169189748938,
          9.656060327926054,
          20,
          5.344323321942013,
          8.496829166962472,
          11.394104270453155,
          10.333276815123831
         ],
         "y": [
          125983.27222515119,
          87782.49440618967,
          72178.8216714349,
          100710.89178638942,
          82965.04519856961,
          113919.20296455084,
          75223.51579902694,
          97813.59658806906,
          108839.24676497976,
          114408.28635718973,
          116556.8265836899,
          142371.85404124582,
          116821.79484184585,
          95937.91687124583,
          64084.09219975926,
          102023.18623839428,
          40450.658510910995,
          106690.95374813,
          112079.67282137349,
          20000,
          104635.79790175868,
          95866.54856988738,
          75664.85189612754,
          112045.20172945173,
          141010.75045338814,
          134644.93664177266,
          87183.5414561961,
          95828.02728890338,
          72804.20089006393,
          55113.53781227171,
          106838.01948915582,
          112636.91818942761,
          97722.60698543182,
          80482.2093885059,
          66697.4256484071,
          91583.24705155742,
          81420.36508897366,
          98862.8882851452,
          126372.56151169022,
          95199.05871898662,
          108406.9504011676,
          74324.7717875795,
          132972.59061949758,
          81108.44913993592,
          89314.93981388892,
          90390.49560734407,
          85200.51881913774,
          70098.2393986118,
          108852.34271918853,
          99632.83336155469,
          90393.53024358397,
          98694.1526899104,
          75269.09616109382,
          150000,
          99951.91779453088,
          109660.60470613804,
          106660.86745102264,
          94556.635368529,
          88534.72537459446,
          40510.25370379019,
          111157.91402683112,
          88138.67645698723,
          66206.27436799165,
          72862.72351441432,
          53600.070105492036,
          124134.79037489247,
          44759.11003921654,
          41245.28781289837,
          79390.9345873711,
          123028.19353559933,
          121983.49932047931,
          54443.911634235476,
          52917.21275846776,
          67592.43846110851,
          80266.91107814935,
          129566.69561312126,
          127308.69928497677,
          101085.39899768053,
          96048.06847806627,
          74967.60236324332,
          51203.864890685334,
          101862.77943699843,
          92850.04464977134,
          63369.857388384415,
          125296.8806410885,
          94967.1087390267,
          81682.05812494707,
          90650.16852914705,
          70558.53357415841,
          88663.09496244072,
          58904.10283346286,
          137963.67884659377,
          100688.87169022972,
          80735.72027775682,
          79790.30560801133,
          143126.41513029725,
          49545.29397417707,
          69677.63723169794,
          96826.15065813724,
          80554.18872490441
         ]
        },
        {
         "marker": {
          "color": "red"
         },
         "mode": "lines",
         "type": "scatter",
         "x": [
          15.881067669120586,
          12.105447568794279,
          6.985805190756556,
          13.121543638492057,
          9.573165111647738,
          14.612775611078243,
          9.64363229849356,
          14.14261484611644,
          14.451719878870241,
          16.204200059598215,
          15.391903782072726,
          18.594633356028716,
          15.018757584052999,
          10.733724139456799,
          8.100367034377033,
          12.126528444242082,
          2.952019422138585,
          14.011611009229949,
          16.327037633695614,
          0,
          13.937580625066584,
          12.150306374138346,
          9.633292187950357,
          15.810057299140606,
          18.713626874760475,
          18.270897128049015,
          9.029945882968022,
          11.555928483500672,
          9.025169868883683,
          6.366418008771785,
          13.313247644263924,
          13.396366383297815,
          12.88365551947892,
          9.346932095148398,
          7.655242015096505,
          12.59656382890375,
          10.378916225863774,
          13.333477653116608,
          15.394776789150319,
          10.411624466410002,
          13.33240243716309,
          8.688787953036682,
          18.52751961761772,
          9.398318166963744,
          10.668959329654736,
          9.962546289223917,
          10.369540849269624,
          8.831015502619948,
          13.186408135514636,
          12.650241363035702,
          10.250764853285034,
          11.739020087056435,
          10.669032754022616,
          18.325661045988266,
          9.993967738811415,
          13.252897860407977,
          13.197643862977346,
          10.885838334659717,
          10.667019453120924,
          2.8272490937181383,
          13.165535523885854,
          10.706423688385414,
          6.76834637217619,
          8.576395454386397,
          5.170948724285078,
          16.048172663908748,
          4.001890034240442,
          3.159486495667686,
          9.201461808547425,
          15.148310349269371,
          15.349968928983158,
          5.3999781523177495,
          5.103833500294323,
          6.256235103628321,
          7.962962023952419,
          18.778783779155535,
          16.079031790278066,
          12.798266873751011,
          13.04047493933339,
          9.281536546804885,
          3.8313975283230723,
          12.212224836849055,
          12.482552997412123,
          5.776173207702711,
          16.443864859482044,
          11.198943565815677,
          9.616545261009069,
          11.655788492856814,
          7.186518853120063,
          11.097799106927893,
          6.568621994487323,
          17.78159403953574,
          12.018154358134977,
          9.472169189748938,
          9.656060327926054,
          20,
          5.344323321942013,
          8.496829166962472,
          11.394104270453155,
          10.333276815123831
         ],
         "y": [
          120815.33127749473,
          97261.8758887433,
          65324.004717051226,
          103600.58921592469,
          81464.73520688176,
          112903.34341451393,
          81904.33074288403,
          109970.33895198551,
          111898.62924760503,
          122831.12845558414,
          117763.77961572286,
          137743.37134845246,
          115435.98124221058,
          88704.65197847405,
          72276.97719949209,
          97393.38473926901,
          40160.0341309447,
          109153.09755961275,
          123597.42624103016,
          21744.447838229564,
          108691.2737255217,
          97541.71862778711,
          81839.82601891218,
          120372.34720149681,
          138485.68875871226,
          135723.8072501515,
          78075.97004273988,
          93833.81032155029,
          78046.17582836386,
          61460.080918684456,
          104796.4965444725,
          105315.01627362502,
          102116.57147849245,
          80053.42550940468,
          69500.15325919817,
          100325.60704172112,
          86491.25334663951,
          104922.69743289995,
          117781.70229921206,
          86695.29720276888,
          104915.9899119308,
          75947.7241203119,
          137324.695633833,
          80373.98730268504,
          88300.6295880058,
          83893.81227278344,
          86432.76692361617,
          76834.9824130282,
          104005.23348529996,
          100660.46366711248,
          85691.80648577028,
          94975.9908910501,
          88301.08763132778,
          136065.44106494763,
          84089.82873933553,
          104420.0164156457,
          104075.32533737221,
          89653.58614438713,
          88288.52805390419,
          39381.679241893,
          103875.02384720561,
          88534.3435418951,
          63967.43110894892,
          75246.58586152336,
          54002.383451095826,
          121857.78256639435,
          46709.443226410935,
          41454.27622394028,
          79145.93804647145,
          116244.17041244767,
          117502.1773715263,
          55431.1380059867,
          53583.69846898237,
          60772.72676971292,
          71419.80335857855,
          138892.1571533491,
          122050.29109134176,
          101583.89138769508,
          103094.85825297829,
          79645.46838193873,
          45645.85962278138,
          97927.98464779022,
          99614.37313523237,
          57777.95607004796,
          124326.22966341751,
          91606.83088248438,
          81735.35364453951,
          94456.7671373822,
          66576.11699709317,
          90975.86128360262,
          62721.49028467629,
          132671.3872077114,
          96717.31454825593,
          80834.69222647607,
          81981.86053376077,
          146510.47176482016,
          55083.946411072226,
          74750.22739549918,
          92824.30213970089,
          86206.54095602075
         ]
        }
       ],
       "layout": {
        "autosize": false,
        "height": 500,
        "showlegend": false,
        "template": {
         "data": {
          "bar": [
           {
            "error_x": {
             "color": "#2a3f5f"
            },
            "error_y": {
             "color": "#2a3f5f"
            },
            "marker": {
             "line": {
              "color": "#E5ECF6",
              "width": 0.5
             }
            },
            "type": "bar"
           }
          ],
          "barpolar": [
           {
            "marker": {
             "line": {
              "color": "#E5ECF6",
              "width": 0.5
             }
            },
            "type": "barpolar"
           }
          ],
          "carpet": [
           {
            "aaxis": {
             "endlinecolor": "#2a3f5f",
             "gridcolor": "white",
             "linecolor": "white",
             "minorgridcolor": "white",
             "startlinecolor": "#2a3f5f"
            },
            "baxis": {
             "endlinecolor": "#2a3f5f",
             "gridcolor": "white",
             "linecolor": "white",
             "minorgridcolor": "white",
             "startlinecolor": "#2a3f5f"
            },
            "type": "carpet"
           }
          ],
          "choropleth": [
           {
            "colorbar": {
             "outlinewidth": 0,
             "ticks": ""
            },
            "type": "choropleth"
           }
          ],
          "contour": [
           {
            "colorbar": {
             "outlinewidth": 0,
             "ticks": ""
            },
            "colorscale": [
             [
              0,
              "#0d0887"
             ],
             [
              0.1111111111111111,
              "#46039f"
             ],
             [
              0.2222222222222222,
              "#7201a8"
             ],
             [
              0.3333333333333333,
              "#9c179e"
             ],
             [
              0.4444444444444444,
              "#bd3786"
             ],
             [
              0.5555555555555556,
              "#d8576b"
             ],
             [
              0.6666666666666666,
              "#ed7953"
             ],
             [
              0.7777777777777778,
              "#fb9f3a"
             ],
             [
              0.8888888888888888,
              "#fdca26"
             ],
             [
              1,
              "#f0f921"
             ]
            ],
            "type": "contour"
           }
          ],
          "contourcarpet": [
           {
            "colorbar": {
             "outlinewidth": 0,
             "ticks": ""
            },
            "type": "contourcarpet"
           }
          ],
          "heatmap": [
           {
            "colorbar": {
             "outlinewidth": 0,
             "ticks": ""
            },
            "colorscale": [
             [
              0,
              "#0d0887"
             ],
             [
              0.1111111111111111,
              "#46039f"
             ],
             [
              0.2222222222222222,
              "#7201a8"
             ],
             [
              0.3333333333333333,
              "#9c179e"
             ],
             [
              0.4444444444444444,
              "#bd3786"
             ],
             [
              0.5555555555555556,
              "#d8576b"
             ],
             [
              0.6666666666666666,
              "#ed7953"
             ],
             [
              0.7777777777777778,
              "#fb9f3a"
             ],
             [
              0.8888888888888888,
              "#fdca26"
             ],
             [
              1,
              "#f0f921"
             ]
            ],
            "type": "heatmap"
           }
          ],
          "heatmapgl": [
           {
            "colorbar": {
             "outlinewidth": 0,
             "ticks": ""
            },
            "colorscale": [
             [
              0,
              "#0d0887"
             ],
             [
              0.1111111111111111,
              "#46039f"
             ],
             [
              0.2222222222222222,
              "#7201a8"
             ],
             [
              0.3333333333333333,
              "#9c179e"
             ],
             [
              0.4444444444444444,
              "#bd3786"
             ],
             [
              0.5555555555555556,
              "#d8576b"
             ],
             [
              0.6666666666666666,
              "#ed7953"
             ],
             [
              0.7777777777777778,
              "#fb9f3a"
             ],
             [
              0.8888888888888888,
              "#fdca26"
             ],
             [
              1,
              "#f0f921"
             ]
            ],
            "type": "heatmapgl"
           }
          ],
          "histogram": [
           {
            "marker": {
             "colorbar": {
              "outlinewidth": 0,
              "ticks": ""
             }
            },
            "type": "histogram"
           }
          ],
          "histogram2d": [
           {
            "colorbar": {
             "outlinewidth": 0,
             "ticks": ""
            },
            "colorscale": [
             [
              0,
              "#0d0887"
             ],
             [
              0.1111111111111111,
              "#46039f"
             ],
             [
              0.2222222222222222,
              "#7201a8"
             ],
             [
              0.3333333333333333,
              "#9c179e"
             ],
             [
              0.4444444444444444,
              "#bd3786"
             ],
             [
              0.5555555555555556,
              "#d8576b"
             ],
             [
              0.6666666666666666,
              "#ed7953"
             ],
             [
              0.7777777777777778,
              "#fb9f3a"
             ],
             [
              0.8888888888888888,
              "#fdca26"
             ],
             [
              1,
              "#f0f921"
             ]
            ],
            "type": "histogram2d"
           }
          ],
          "histogram2dcontour": [
           {
            "colorbar": {
             "outlinewidth": 0,
             "ticks": ""
            },
            "colorscale": [
             [
              0,
              "#0d0887"
             ],
             [
              0.1111111111111111,
              "#46039f"
             ],
             [
              0.2222222222222222,
              "#7201a8"
             ],
             [
              0.3333333333333333,
              "#9c179e"
             ],
             [
              0.4444444444444444,
              "#bd3786"
             ],
             [
              0.5555555555555556,
              "#d8576b"
             ],
             [
              0.6666666666666666,
              "#ed7953"
             ],
             [
              0.7777777777777778,
              "#fb9f3a"
             ],
             [
              0.8888888888888888,
              "#fdca26"
             ],
             [
              1,
              "#f0f921"
             ]
            ],
            "type": "histogram2dcontour"
           }
          ],
          "mesh3d": [
           {
            "colorbar": {
             "outlinewidth": 0,
             "ticks": ""
            },
            "type": "mesh3d"
           }
          ],
          "parcoords": [
           {
            "line": {
             "colorbar": {
              "outlinewidth": 0,
              "ticks": ""
             }
            },
            "type": "parcoords"
           }
          ],
          "pie": [
           {
            "automargin": true,
            "type": "pie"
           }
          ],
          "scatter": [
           {
            "marker": {
             "colorbar": {
              "outlinewidth": 0,
              "ticks": ""
             }
            },
            "type": "scatter"
           }
          ],
          "scatter3d": [
           {
            "line": {
             "colorbar": {
              "outlinewidth": 0,
              "ticks": ""
             }
            },
            "marker": {
             "colorbar": {
              "outlinewidth": 0,
              "ticks": ""
             }
            },
            "type": "scatter3d"
           }
          ],
          "scattercarpet": [
           {
            "marker": {
             "colorbar": {
              "outlinewidth": 0,
              "ticks": ""
             }
            },
            "type": "scattercarpet"
           }
          ],
          "scattergeo": [
           {
            "marker": {
             "colorbar": {
              "outlinewidth": 0,
              "ticks": ""
             }
            },
            "type": "scattergeo"
           }
          ],
          "scattergl": [
           {
            "marker": {
             "colorbar": {
              "outlinewidth": 0,
              "ticks": ""
             }
            },
            "type": "scattergl"
           }
          ],
          "scattermapbox": [
           {
            "marker": {
             "colorbar": {
              "outlinewidth": 0,
              "ticks": ""
             }
            },
            "type": "scattermapbox"
           }
          ],
          "scatterpolar": [
           {
            "marker": {
             "colorbar": {
              "outlinewidth": 0,
              "ticks": ""
             }
            },
            "type": "scatterpolar"
           }
          ],
          "scatterpolargl": [
           {
            "marker": {
             "colorbar": {
              "outlinewidth": 0,
              "ticks": ""
             }
            },
            "type": "scatterpolargl"
           }
          ],
          "scatterternary": [
           {
            "marker": {
             "colorbar": {
              "outlinewidth": 0,
              "ticks": ""
             }
            },
            "type": "scatterternary"
           }
          ],
          "surface": [
           {
            "colorbar": {
             "outlinewidth": 0,
             "ticks": ""
            },
            "colorscale": [
             [
              0,
              "#0d0887"
             ],
             [
              0.1111111111111111,
              "#46039f"
             ],
             [
              0.2222222222222222,
              "#7201a8"
             ],
             [
              0.3333333333333333,
              "#9c179e"
             ],
             [
              0.4444444444444444,
              "#bd3786"
             ],
             [
              0.5555555555555556,
              "#d8576b"
             ],
             [
              0.6666666666666666,
              "#ed7953"
             ],
             [
              0.7777777777777778,
              "#fb9f3a"
             ],
             [
              0.8888888888888888,
              "#fdca26"
             ],
             [
              1,
              "#f0f921"
             ]
            ],
            "type": "surface"
           }
          ],
          "table": [
           {
            "cells": {
             "fill": {
              "color": "#EBF0F8"
             },
             "line": {
              "color": "white"
             }
            },
            "header": {
             "fill": {
              "color": "#C8D4E3"
             },
             "line": {
              "color": "white"
             }
            },
            "type": "table"
           }
          ]
         },
         "layout": {
          "annotationdefaults": {
           "arrowcolor": "#2a3f5f",
           "arrowhead": 0,
           "arrowwidth": 1
          },
          "coloraxis": {
           "colorbar": {
            "outlinewidth": 0,
            "ticks": ""
           }
          },
          "colorscale": {
           "diverging": [
            [
             0,
             "#8e0152"
            ],
            [
             0.1,
             "#c51b7d"
            ],
            [
             0.2,
             "#de77ae"
            ],
            [
             0.3,
             "#f1b6da"
            ],
            [
             0.4,
             "#fde0ef"
            ],
            [
             0.5,
             "#f7f7f7"
            ],
            [
             0.6,
             "#e6f5d0"
            ],
            [
             0.7,
             "#b8e186"
            ],
            [
             0.8,
             "#7fbc41"
            ],
            [
             0.9,
             "#4d9221"
            ],
            [
             1,
             "#276419"
            ]
           ],
           "sequential": [
            [
             0,
             "#0d0887"
            ],
            [
             0.1111111111111111,
             "#46039f"
            ],
            [
             0.2222222222222222,
             "#7201a8"
            ],
            [
             0.3333333333333333,
             "#9c179e"
            ],
            [
             0.4444444444444444,
             "#bd3786"
            ],
            [
             0.5555555555555556,
             "#d8576b"
            ],
            [
             0.6666666666666666,
             "#ed7953"
            ],
            [
             0.7777777777777778,
             "#fb9f3a"
            ],
            [
             0.8888888888888888,
             "#fdca26"
            ],
            [
             1,
             "#f0f921"
            ]
           ],
           "sequentialminus": [
            [
             0,
             "#0d0887"
            ],
            [
             0.1111111111111111,
             "#46039f"
            ],
            [
             0.2222222222222222,
             "#7201a8"
            ],
            [
             0.3333333333333333,
             "#9c179e"
            ],
            [
             0.4444444444444444,
             "#bd3786"
            ],
            [
             0.5555555555555556,
             "#d8576b"
            ],
            [
             0.6666666666666666,
             "#ed7953"
            ],
            [
             0.7777777777777778,
             "#fb9f3a"
            ],
            [
             0.8888888888888888,
             "#fdca26"
            ],
            [
             1,
             "#f0f921"
            ]
           ]
          },
          "colorway": [
           "#636efa",
           "#EF553B",
           "#00cc96",
           "#ab63fa",
           "#FFA15A",
           "#19d3f3",
           "#FF6692",
           "#B6E880",
           "#FF97FF",
           "#FECB52"
          ],
          "font": {
           "color": "#2a3f5f"
          },
          "geo": {
           "bgcolor": "white",
           "lakecolor": "white",
           "landcolor": "#E5ECF6",
           "showlakes": true,
           "showland": true,
           "subunitcolor": "white"
          },
          "hoverlabel": {
           "align": "left"
          },
          "hovermode": "closest",
          "mapbox": {
           "style": "light"
          },
          "paper_bgcolor": "white",
          "plot_bgcolor": "#E5ECF6",
          "polar": {
           "angularaxis": {
            "gridcolor": "white",
            "linecolor": "white",
            "ticks": ""
           },
           "bgcolor": "#E5ECF6",
           "radialaxis": {
            "gridcolor": "white",
            "linecolor": "white",
            "ticks": ""
           }
          },
          "scene": {
           "xaxis": {
            "backgroundcolor": "#E5ECF6",
            "gridcolor": "white",
            "gridwidth": 2,
            "linecolor": "white",
            "showbackground": true,
            "ticks": "",
            "zerolinecolor": "white"
           },
           "yaxis": {
            "backgroundcolor": "#E5ECF6",
            "gridcolor": "white",
            "gridwidth": 2,
            "linecolor": "white",
            "showbackground": true,
            "ticks": "",
            "zerolinecolor": "white"
           },
           "zaxis": {
            "backgroundcolor": "#E5ECF6",
            "gridcolor": "white",
            "gridwidth": 2,
            "linecolor": "white",
            "showbackground": true,
            "ticks": "",
            "zerolinecolor": "white"
           }
          },
          "shapedefaults": {
           "line": {
            "color": "#2a3f5f"
           }
          },
          "ternary": {
           "aaxis": {
            "gridcolor": "white",
            "linecolor": "white",
            "ticks": ""
           },
           "baxis": {
            "gridcolor": "white",
            "linecolor": "white",
            "ticks": ""
           },
           "bgcolor": "#E5ECF6",
           "caxis": {
            "gridcolor": "white",
            "linecolor": "white",
            "ticks": ""
           }
          },
          "title": {
           "x": 0.05
          },
          "xaxis": {
           "automargin": true,
           "gridcolor": "white",
           "linecolor": "white",
           "ticks": "",
           "title": {
            "standoff": 15
           },
           "zerolinecolor": "white",
           "zerolinewidth": 2
          },
          "yaxis": {
           "automargin": true,
           "gridcolor": "white",
           "linecolor": "white",
           "ticks": "",
           "title": {
            "standoff": 15
           },
           "zerolinecolor": "white",
           "zerolinewidth": 2
          }
         }
        },
        "title": {
         "text": "Mock Regression Dataset"
        },
        "width": 500,
        "xaxis": {
         "title": {
          "text": "Feature 1 - Years of Experience"
         }
        },
        "yaxis": {
         "title": {
          "text": "Target Variable - Salary"
         }
        }
       }
      },
      "text/html": [
       "<div>                            <div id=\"9f27ba1c-98af-49ed-89e8-e899b6aa5280\" class=\"plotly-graph-div\" style=\"height:500px; width:500px;\"></div>            <script type=\"text/javascript\">                require([\"plotly\"], function(Plotly) {                    window.PLOTLYENV=window.PLOTLYENV || {};                                    if (document.getElementById(\"9f27ba1c-98af-49ed-89e8-e899b6aa5280\")) {                    Plotly.newPlot(                        \"9f27ba1c-98af-49ed-89e8-e899b6aa5280\",                        [{\"mode\": \"markers\", \"type\": \"scatter\", \"x\": [15.881067669120586, 12.105447568794279, 6.985805190756556, 13.121543638492057, 9.573165111647738, 14.612775611078243, 9.64363229849356, 14.14261484611644, 14.451719878870241, 16.204200059598215, 15.391903782072726, 18.594633356028716, 15.018757584052999, 10.733724139456799, 8.100367034377033, 12.126528444242082, 2.952019422138585, 14.011611009229949, 16.327037633695614, 0.0, 13.937580625066584, 12.150306374138346, 9.633292187950357, 15.810057299140606, 18.713626874760475, 18.270897128049015, 9.029945882968022, 11.555928483500672, 9.025169868883683, 6.366418008771785, 13.313247644263924, 13.396366383297815, 12.88365551947892, 9.346932095148398, 7.655242015096505, 12.59656382890375, 10.378916225863774, 13.333477653116608, 15.394776789150319, 10.411624466410002, 13.33240243716309, 8.688787953036682, 18.52751961761772, 9.398318166963744, 10.668959329654736, 9.962546289223917, 10.369540849269624, 8.831015502619948, 13.186408135514636, 12.650241363035702, 10.250764853285034, 11.739020087056435, 10.669032754022616, 18.325661045988266, 9.993967738811415, 13.252897860407977, 13.197643862977346, 10.885838334659717, 10.667019453120924, 2.8272490937181383, 13.165535523885854, 10.706423688385414, 6.76834637217619, 8.576395454386397, 5.170948724285078, 16.048172663908748, 4.001890034240442, 3.159486495667686, 9.201461808547425, 15.148310349269371, 15.349968928983158, 5.3999781523177495, 5.103833500294323, 6.256235103628321, 7.962962023952419, 18.778783779155535, 16.079031790278066, 12.798266873751011, 13.04047493933339, 9.281536546804885, 3.8313975283230723, 12.212224836849055, 12.482552997412123, 5.776173207702711, 16.443864859482044, 11.198943565815677, 9.616545261009069, 11.655788492856814, 7.186518853120063, 11.097799106927893, 6.568621994487323, 17.78159403953574, 12.018154358134977, 9.472169189748938, 9.656060327926054, 20.0, 5.344323321942013, 8.496829166962472, 11.394104270453155, 10.333276815123831], \"y\": [125983.27222515119, 87782.49440618967, 72178.8216714349, 100710.89178638942, 82965.04519856961, 113919.20296455084, 75223.51579902694, 97813.59658806906, 108839.24676497976, 114408.28635718973, 116556.8265836899, 142371.85404124582, 116821.79484184585, 95937.91687124583, 64084.09219975926, 102023.18623839428, 40450.658510910995, 106690.95374813, 112079.67282137349, 20000.0, 104635.79790175868, 95866.54856988738, 75664.85189612754, 112045.20172945173, 141010.75045338814, 134644.93664177266, 87183.5414561961, 95828.02728890338, 72804.20089006393, 55113.53781227171, 106838.01948915582, 112636.91818942761, 97722.60698543182, 80482.2093885059, 66697.4256484071, 91583.24705155742, 81420.36508897366, 98862.8882851452, 126372.56151169022, 95199.05871898662, 108406.9504011676, 74324.7717875795, 132972.59061949758, 81108.44913993592, 89314.93981388892, 90390.49560734407, 85200.51881913774, 70098.2393986118, 108852.34271918853, 99632.83336155469, 90393.53024358397, 98694.1526899104, 75269.09616109382, 150000.0, 99951.91779453088, 109660.60470613804, 106660.86745102264, 94556.635368529, 88534.72537459446, 40510.25370379019, 111157.91402683112, 88138.67645698723, 66206.27436799165, 72862.72351441432, 53600.070105492036, 124134.79037489247, 44759.11003921654, 41245.28781289837, 79390.9345873711, 123028.19353559933, 121983.49932047931, 54443.911634235476, 52917.21275846776, 67592.43846110851, 80266.91107814935, 129566.69561312126, 127308.69928497677, 101085.39899768053, 96048.06847806627, 74967.60236324332, 51203.864890685334, 101862.77943699843, 92850.04464977134, 63369.857388384415, 125296.8806410885, 94967.1087390267, 81682.05812494707, 90650.16852914705, 70558.53357415841, 88663.09496244072, 58904.10283346286, 137963.67884659377, 100688.87169022972, 80735.72027775682, 79790.30560801133, 143126.41513029725, 49545.29397417707, 69677.63723169794, 96826.15065813724, 80554.18872490441]}, {\"marker\": {\"color\": \"red\"}, \"mode\": \"lines\", \"type\": \"scatter\", \"x\": [15.881067669120586, 12.105447568794279, 6.985805190756556, 13.121543638492057, 9.573165111647738, 14.612775611078243, 9.64363229849356, 14.14261484611644, 14.451719878870241, 16.204200059598215, 15.391903782072726, 18.594633356028716, 15.018757584052999, 10.733724139456799, 8.100367034377033, 12.126528444242082, 2.952019422138585, 14.011611009229949, 16.327037633695614, 0.0, 13.937580625066584, 12.150306374138346, 9.633292187950357, 15.810057299140606, 18.713626874760475, 18.270897128049015, 9.029945882968022, 11.555928483500672, 9.025169868883683, 6.366418008771785, 13.313247644263924, 13.396366383297815, 12.88365551947892, 9.346932095148398, 7.655242015096505, 12.59656382890375, 10.378916225863774, 13.333477653116608, 15.394776789150319, 10.411624466410002, 13.33240243716309, 8.688787953036682, 18.52751961761772, 9.398318166963744, 10.668959329654736, 9.962546289223917, 10.369540849269624, 8.831015502619948, 13.186408135514636, 12.650241363035702, 10.250764853285034, 11.739020087056435, 10.669032754022616, 18.325661045988266, 9.993967738811415, 13.252897860407977, 13.197643862977346, 10.885838334659717, 10.667019453120924, 2.8272490937181383, 13.165535523885854, 10.706423688385414, 6.76834637217619, 8.576395454386397, 5.170948724285078, 16.048172663908748, 4.001890034240442, 3.159486495667686, 9.201461808547425, 15.148310349269371, 15.349968928983158, 5.3999781523177495, 5.103833500294323, 6.256235103628321, 7.962962023952419, 18.778783779155535, 16.079031790278066, 12.798266873751011, 13.04047493933339, 9.281536546804885, 3.8313975283230723, 12.212224836849055, 12.482552997412123, 5.776173207702711, 16.443864859482044, 11.198943565815677, 9.616545261009069, 11.655788492856814, 7.186518853120063, 11.097799106927893, 6.568621994487323, 17.78159403953574, 12.018154358134977, 9.472169189748938, 9.656060327926054, 20.0, 5.344323321942013, 8.496829166962472, 11.394104270453155, 10.333276815123831], \"y\": [120815.33127749473, 97261.8758887433, 65324.004717051226, 103600.58921592469, 81464.73520688176, 112903.34341451393, 81904.33074288403, 109970.33895198551, 111898.62924760503, 122831.12845558414, 117763.77961572286, 137743.37134845246, 115435.98124221058, 88704.65197847405, 72276.97719949209, 97393.38473926901, 40160.0341309447, 109153.09755961275, 123597.42624103016, 21744.447838229564, 108691.2737255217, 97541.71862778711, 81839.82601891218, 120372.34720149681, 138485.68875871226, 135723.8072501515, 78075.97004273988, 93833.81032155029, 78046.17582836386, 61460.080918684456, 104796.4965444725, 105315.01627362502, 102116.57147849245, 80053.42550940468, 69500.15325919817, 100325.60704172112, 86491.25334663951, 104922.69743289995, 117781.70229921206, 86695.29720276888, 104915.9899119308, 75947.7241203119, 137324.695633833, 80373.98730268504, 88300.6295880058, 83893.81227278344, 86432.76692361617, 76834.9824130282, 104005.23348529996, 100660.46366711248, 85691.80648577028, 94975.9908910501, 88301.08763132778, 136065.44106494763, 84089.82873933553, 104420.0164156457, 104075.32533737221, 89653.58614438713, 88288.52805390419, 39381.679241893, 103875.02384720561, 88534.3435418951, 63967.43110894892, 75246.58586152336, 54002.383451095826, 121857.78256639435, 46709.443226410935, 41454.27622394028, 79145.93804647145, 116244.17041244767, 117502.1773715263, 55431.1380059867, 53583.69846898237, 60772.72676971292, 71419.80335857855, 138892.1571533491, 122050.29109134176, 101583.89138769508, 103094.85825297829, 79645.46838193873, 45645.85962278138, 97927.98464779022, 99614.37313523237, 57777.95607004796, 124326.22966341751, 91606.83088248438, 81735.35364453951, 94456.7671373822, 66576.11699709317, 90975.86128360262, 62721.49028467629, 132671.3872077114, 96717.31454825593, 80834.69222647607, 81981.86053376077, 146510.47176482016, 55083.946411072226, 74750.22739549918, 92824.30213970089, 86206.54095602075]}],                        {\"autosize\": false, \"height\": 500, \"showlegend\": false, \"template\": {\"data\": {\"bar\": [{\"error_x\": {\"color\": \"#2a3f5f\"}, \"error_y\": {\"color\": \"#2a3f5f\"}, \"marker\": {\"line\": {\"color\": \"#E5ECF6\", \"width\": 0.5}}, \"type\": \"bar\"}], \"barpolar\": [{\"marker\": {\"line\": {\"color\": \"#E5ECF6\", \"width\": 0.5}}, \"type\": \"barpolar\"}], \"carpet\": [{\"aaxis\": {\"endlinecolor\": \"#2a3f5f\", \"gridcolor\": \"white\", \"linecolor\": \"white\", \"minorgridcolor\": \"white\", \"startlinecolor\": \"#2a3f5f\"}, \"baxis\": {\"endlinecolor\": \"#2a3f5f\", \"gridcolor\": \"white\", \"linecolor\": \"white\", \"minorgridcolor\": \"white\", \"startlinecolor\": \"#2a3f5f\"}, \"type\": \"carpet\"}], \"choropleth\": [{\"colorbar\": {\"outlinewidth\": 0, \"ticks\": \"\"}, \"type\": \"choropleth\"}], \"contour\": [{\"colorbar\": {\"outlinewidth\": 0, \"ticks\": \"\"}, \"colorscale\": [[0.0, \"#0d0887\"], [0.1111111111111111, \"#46039f\"], [0.2222222222222222, \"#7201a8\"], [0.3333333333333333, \"#9c179e\"], [0.4444444444444444, \"#bd3786\"], [0.5555555555555556, \"#d8576b\"], [0.6666666666666666, \"#ed7953\"], [0.7777777777777778, \"#fb9f3a\"], [0.8888888888888888, \"#fdca26\"], [1.0, \"#f0f921\"]], \"type\": \"contour\"}], \"contourcarpet\": [{\"colorbar\": {\"outlinewidth\": 0, \"ticks\": \"\"}, \"type\": \"contourcarpet\"}], \"heatmap\": [{\"colorbar\": {\"outlinewidth\": 0, \"ticks\": \"\"}, \"colorscale\": [[0.0, \"#0d0887\"], [0.1111111111111111, \"#46039f\"], [0.2222222222222222, \"#7201a8\"], [0.3333333333333333, \"#9c179e\"], [0.4444444444444444, \"#bd3786\"], [0.5555555555555556, \"#d8576b\"], [0.6666666666666666, \"#ed7953\"], [0.7777777777777778, \"#fb9f3a\"], [0.8888888888888888, \"#fdca26\"], [1.0, \"#f0f921\"]], \"type\": \"heatmap\"}], \"heatmapgl\": [{\"colorbar\": {\"outlinewidth\": 0, \"ticks\": \"\"}, \"colorscale\": [[0.0, \"#0d0887\"], [0.1111111111111111, \"#46039f\"], [0.2222222222222222, \"#7201a8\"], [0.3333333333333333, \"#9c179e\"], [0.4444444444444444, \"#bd3786\"], [0.5555555555555556, \"#d8576b\"], [0.6666666666666666, \"#ed7953\"], [0.7777777777777778, \"#fb9f3a\"], [0.8888888888888888, \"#fdca26\"], [1.0, \"#f0f921\"]], \"type\": \"heatmapgl\"}], \"histogram\": [{\"marker\": {\"colorbar\": {\"outlinewidth\": 0, \"ticks\": \"\"}}, \"type\": \"histogram\"}], \"histogram2d\": [{\"colorbar\": {\"outlinewidth\": 0, \"ticks\": \"\"}, \"colorscale\": [[0.0, \"#0d0887\"], [0.1111111111111111, \"#46039f\"], [0.2222222222222222, \"#7201a8\"], [0.3333333333333333, \"#9c179e\"], [0.4444444444444444, \"#bd3786\"], [0.5555555555555556, \"#d8576b\"], [0.6666666666666666, \"#ed7953\"], [0.7777777777777778, \"#fb9f3a\"], [0.8888888888888888, \"#fdca26\"], [1.0, \"#f0f921\"]], \"type\": \"histogram2d\"}], \"histogram2dcontour\": [{\"colorbar\": {\"outlinewidth\": 0, \"ticks\": \"\"}, \"colorscale\": [[0.0, \"#0d0887\"], [0.1111111111111111, \"#46039f\"], [0.2222222222222222, \"#7201a8\"], [0.3333333333333333, \"#9c179e\"], [0.4444444444444444, \"#bd3786\"], [0.5555555555555556, \"#d8576b\"], [0.6666666666666666, \"#ed7953\"], [0.7777777777777778, \"#fb9f3a\"], [0.8888888888888888, \"#fdca26\"], [1.0, \"#f0f921\"]], \"type\": \"histogram2dcontour\"}], \"mesh3d\": [{\"colorbar\": {\"outlinewidth\": 0, \"ticks\": \"\"}, \"type\": \"mesh3d\"}], \"parcoords\": [{\"line\": {\"colorbar\": {\"outlinewidth\": 0, \"ticks\": \"\"}}, \"type\": \"parcoords\"}], \"pie\": [{\"automargin\": true, \"type\": \"pie\"}], \"scatter\": [{\"marker\": {\"colorbar\": {\"outlinewidth\": 0, \"ticks\": \"\"}}, \"type\": \"scatter\"}], \"scatter3d\": [{\"line\": {\"colorbar\": {\"outlinewidth\": 0, \"ticks\": \"\"}}, \"marker\": {\"colorbar\": {\"outlinewidth\": 0, \"ticks\": \"\"}}, \"type\": \"scatter3d\"}], \"scattercarpet\": [{\"marker\": {\"colorbar\": {\"outlinewidth\": 0, \"ticks\": \"\"}}, \"type\": \"scattercarpet\"}], \"scattergeo\": [{\"marker\": {\"colorbar\": {\"outlinewidth\": 0, \"ticks\": \"\"}}, \"type\": \"scattergeo\"}], \"scattergl\": [{\"marker\": {\"colorbar\": {\"outlinewidth\": 0, \"ticks\": \"\"}}, \"type\": \"scattergl\"}], \"scattermapbox\": [{\"marker\": {\"colorbar\": {\"outlinewidth\": 0, \"ticks\": \"\"}}, \"type\": \"scattermapbox\"}], \"scatterpolar\": [{\"marker\": {\"colorbar\": {\"outlinewidth\": 0, \"ticks\": \"\"}}, \"type\": \"scatterpolar\"}], \"scatterpolargl\": [{\"marker\": {\"colorbar\": {\"outlinewidth\": 0, \"ticks\": \"\"}}, \"type\": \"scatterpolargl\"}], \"scatterternary\": [{\"marker\": {\"colorbar\": {\"outlinewidth\": 0, \"ticks\": \"\"}}, \"type\": \"scatterternary\"}], \"surface\": [{\"colorbar\": {\"outlinewidth\": 0, \"ticks\": \"\"}, \"colorscale\": [[0.0, \"#0d0887\"], [0.1111111111111111, \"#46039f\"], [0.2222222222222222, \"#7201a8\"], [0.3333333333333333, \"#9c179e\"], [0.4444444444444444, \"#bd3786\"], [0.5555555555555556, \"#d8576b\"], [0.6666666666666666, \"#ed7953\"], [0.7777777777777778, \"#fb9f3a\"], [0.8888888888888888, \"#fdca26\"], [1.0, \"#f0f921\"]], \"type\": \"surface\"}], \"table\": [{\"cells\": {\"fill\": {\"color\": \"#EBF0F8\"}, \"line\": {\"color\": \"white\"}}, \"header\": {\"fill\": {\"color\": \"#C8D4E3\"}, \"line\": {\"color\": \"white\"}}, \"type\": \"table\"}]}, \"layout\": {\"annotationdefaults\": {\"arrowcolor\": \"#2a3f5f\", \"arrowhead\": 0, \"arrowwidth\": 1}, \"coloraxis\": {\"colorbar\": {\"outlinewidth\": 0, \"ticks\": \"\"}}, \"colorscale\": {\"diverging\": [[0, \"#8e0152\"], [0.1, \"#c51b7d\"], [0.2, \"#de77ae\"], [0.3, \"#f1b6da\"], [0.4, \"#fde0ef\"], [0.5, \"#f7f7f7\"], [0.6, \"#e6f5d0\"], [0.7, \"#b8e186\"], [0.8, \"#7fbc41\"], [0.9, \"#4d9221\"], [1, \"#276419\"]], \"sequential\": [[0.0, \"#0d0887\"], [0.1111111111111111, \"#46039f\"], [0.2222222222222222, \"#7201a8\"], [0.3333333333333333, \"#9c179e\"], [0.4444444444444444, \"#bd3786\"], [0.5555555555555556, \"#d8576b\"], [0.6666666666666666, \"#ed7953\"], [0.7777777777777778, \"#fb9f3a\"], [0.8888888888888888, \"#fdca26\"], [1.0, \"#f0f921\"]], \"sequentialminus\": [[0.0, \"#0d0887\"], [0.1111111111111111, \"#46039f\"], [0.2222222222222222, \"#7201a8\"], [0.3333333333333333, \"#9c179e\"], [0.4444444444444444, \"#bd3786\"], [0.5555555555555556, \"#d8576b\"], [0.6666666666666666, \"#ed7953\"], [0.7777777777777778, \"#fb9f3a\"], [0.8888888888888888, \"#fdca26\"], [1.0, \"#f0f921\"]]}, \"colorway\": [\"#636efa\", \"#EF553B\", \"#00cc96\", \"#ab63fa\", \"#FFA15A\", \"#19d3f3\", \"#FF6692\", \"#B6E880\", \"#FF97FF\", \"#FECB52\"], \"font\": {\"color\": \"#2a3f5f\"}, \"geo\": {\"bgcolor\": \"white\", \"lakecolor\": \"white\", \"landcolor\": \"#E5ECF6\", \"showlakes\": true, \"showland\": true, \"subunitcolor\": \"white\"}, \"hoverlabel\": {\"align\": \"left\"}, \"hovermode\": \"closest\", \"mapbox\": {\"style\": \"light\"}, \"paper_bgcolor\": \"white\", \"plot_bgcolor\": \"#E5ECF6\", \"polar\": {\"angularaxis\": {\"gridcolor\": \"white\", \"linecolor\": \"white\", \"ticks\": \"\"}, \"bgcolor\": \"#E5ECF6\", \"radialaxis\": {\"gridcolor\": \"white\", \"linecolor\": \"white\", \"ticks\": \"\"}}, \"scene\": {\"xaxis\": {\"backgroundcolor\": \"#E5ECF6\", \"gridcolor\": \"white\", \"gridwidth\": 2, \"linecolor\": \"white\", \"showbackground\": true, \"ticks\": \"\", \"zerolinecolor\": \"white\"}, \"yaxis\": {\"backgroundcolor\": \"#E5ECF6\", \"gridcolor\": \"white\", \"gridwidth\": 2, \"linecolor\": \"white\", \"showbackground\": true, \"ticks\": \"\", \"zerolinecolor\": \"white\"}, \"zaxis\": {\"backgroundcolor\": \"#E5ECF6\", \"gridcolor\": \"white\", \"gridwidth\": 2, \"linecolor\": \"white\", \"showbackground\": true, \"ticks\": \"\", \"zerolinecolor\": \"white\"}}, \"shapedefaults\": {\"line\": {\"color\": \"#2a3f5f\"}}, \"ternary\": {\"aaxis\": {\"gridcolor\": \"white\", \"linecolor\": \"white\", \"ticks\": \"\"}, \"baxis\": {\"gridcolor\": \"white\", \"linecolor\": \"white\", \"ticks\": \"\"}, \"bgcolor\": \"#E5ECF6\", \"caxis\": {\"gridcolor\": \"white\", \"linecolor\": \"white\", \"ticks\": \"\"}}, \"title\": {\"x\": 0.05}, \"xaxis\": {\"automargin\": true, \"gridcolor\": \"white\", \"linecolor\": \"white\", \"ticks\": \"\", \"title\": {\"standoff\": 15}, \"zerolinecolor\": \"white\", \"zerolinewidth\": 2}, \"yaxis\": {\"automargin\": true, \"gridcolor\": \"white\", \"linecolor\": \"white\", \"ticks\": \"\", \"title\": {\"standoff\": 15}, \"zerolinecolor\": \"white\", \"zerolinewidth\": 2}}}, \"title\": {\"text\": \"Mock Regression Dataset\"}, \"width\": 500, \"xaxis\": {\"title\": {\"text\": \"Feature 1 - Years of Experience\"}}, \"yaxis\": {\"title\": {\"text\": \"Target Variable - Salary\"}}},                        {\"responsive\": true}                    ).then(function(){\n",
       "                            \n",
       "var gd = document.getElementById('9f27ba1c-98af-49ed-89e8-e899b6aa5280');\n",
       "var x = new MutationObserver(function (mutations, observer) {{\n",
       "        var display = window.getComputedStyle(gd).display;\n",
       "        if (!display || display === 'none') {{\n",
       "            console.log([gd, 'removed!']);\n",
       "            Plotly.purge(gd);\n",
       "            observer.disconnect();\n",
       "        }}\n",
       "}});\n",
       "\n",
       "// Listen for the removal of the full notebook cells\n",
       "var notebookContainer = gd.closest('#notebook-container');\n",
       "if (notebookContainer) {{\n",
       "    x.observe(notebookContainer, {childList: true});\n",
       "}}\n",
       "\n",
       "// Listen for the clearing of the current output cell\n",
       "var outputEl = gd.closest('.output');\n",
       "if (outputEl) {{\n",
       "    x.observe(outputEl, {childList: true});\n",
       "}}\n",
       "\n",
       "                        })                };                });            </script>        </div>"
      ]
     },
     "metadata": {},
     "output_type": "display_data"
    }
   ],
   "source": [
    "fig = go.Figure()\n",
    "fig.add_trace(go.Scatter(x=X_list, y=y.tolist(), mode='markers'))\n",
    "fig.add_trace(go.Scatter(x=X_list, y=y_pred, mode='lines', marker=dict(color='red')))\n",
    "fig.update_layout(\n",
    "    title='Mock Regression Dataset',\n",
    "    xaxis_title='Feature 1 - Years of Experience',\n",
    "    yaxis_title='Target Variable - Salary',\n",
    "    autosize=False,\n",
    "    width=500,\n",
    "    height=500,\n",
    "    showlegend=False)\n",
    "fig.show()"
   ]
  }
 ],
 "metadata": {
  "kernelspec": {
   "display_name": "pft",
   "language": "python",
   "name": "pft"
  },
  "language_info": {
   "codemirror_mode": {
    "name": "ipython",
    "version": 3
   },
   "file_extension": ".py",
   "mimetype": "text/x-python",
   "name": "python",
   "nbconvert_exporter": "python",
   "pygments_lexer": "ipython3",
   "version": "3.8.5"
  }
 },
 "nbformat": 4,
 "nbformat_minor": 4
}
