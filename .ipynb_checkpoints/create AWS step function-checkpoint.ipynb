{
 "cells": [
  {
   "cell_type": "raw",
   "metadata": {},
   "source": [
    "'''\n",
    "Notebook: Create AWS Lambda function\n",
    "Author: Jeff Weisman\n",
    "Date Created: 2021-02-24\n",
    "Description: Creating a lambda function from code instead of directly in mgmt console\n",
    "Inspiration: FQA project\n",
    "Note: None\n",
    "'''"
   ]
  },
  {
   "cell_type": "code",
   "execution_count": 12,
   "metadata": {},
   "outputs": [],
   "source": [
    "# Import packages\n",
    "import os\n",
    "from zipfile import ZipFile\n",
    "import boto3"
   ]
  },
  {
   "cell_type": "code",
   "execution_count": 4,
   "metadata": {},
   "outputs": [
    {
     "data": {
      "text/plain": [
       "['credentials']"
      ]
     },
     "execution_count": 4,
     "metadata": {},
     "output_type": "execute_result"
    }
   ],
   "source": [
    "# Put credentials file in .aws directory; check if file is found\n",
    "# https://docs.aws.amazon.com/credref/latest/refdocs/file-location.html\n",
    "# %USERPROFILE%\\.aws\\credentials\n",
    "\n",
    "os.listdir(os.environ['USERPROFILE'] + '\\.aws\\\\')"
   ]
  },
  {
   "cell_type": "code",
   "execution_count": 25,
   "metadata": {},
   "outputs": [
    {
     "data": {
      "text/plain": [
       "[{'FunctionName': 'weisman-test',\n",
       "  'FunctionArn': 'arn:aws:lambda:us-east-1:475434563362:function:weisman-test',\n",
       "  'Runtime': 'python3.8',\n",
       "  'Role': 'arn:aws:iam::475434563362:role/service-role/weisman-test-role-03ak8xfv',\n",
       "  'Handler': 'lambda_function.lambda_handler',\n",
       "  'CodeSize': 291,\n",
       "  'Description': '',\n",
       "  'Timeout': 3,\n",
       "  'MemorySize': 128,\n",
       "  'LastModified': '2021-02-24T21:50:22.345+0000',\n",
       "  'CodeSha256': '+++TUzrkMZXAl4+S6I5HlHuNjvpkJJQv271t6pHBM9g=',\n",
       "  'Version': '$LATEST',\n",
       "  'TracingConfig': {'Mode': 'PassThrough'},\n",
       "  'RevisionId': '8e7102d1-37cd-4253-b79b-49a0af57663b',\n",
       "  'PackageType': 'Zip'}]"
      ]
     },
     "execution_count": 25,
     "metadata": {},
     "output_type": "execute_result"
    }
   ],
   "source": [
    "# List existing Lambdas functions\n",
    "awsLambda = boto3.client('lambda', 'us-east-1')\n",
    "awsLambda.list_functions()['Functions']"
   ]
  },
  {
   "cell_type": "code",
   "execution_count": null,
   "metadata": {},
   "outputs": [],
   "source": [
    "# To create a function, you need a `deployment package\n",
    "# https://docs.aws.amazon.com/lambda/latest/dg/gettingstarted-package.html\n",
    "\n",
    "# and an execution role\n",
    "# https://docs.aws.amazon.com/lambda/latest/dg/intro-permission-model.html#lambda-intro-execution-role"
   ]
  },
  {
   "cell_type": "code",
   "execution_count": 14,
   "metadata": {},
   "outputs": [],
   "source": [
    "# Zip the .py file that contains the lambda function\n",
    "ZipFile('reference/deploy.zip', mode='w').write('reference/lambda_function.py')"
   ]
  },
  {
   "cell_type": "code",
   "execution_count": 26,
   "metadata": {},
   "outputs": [
    {
     "data": {
      "text/plain": [
       "201"
      ]
     },
     "execution_count": 26,
     "metadata": {},
     "output_type": "execute_result"
    }
   ],
   "source": [
    "# Create a new Lambda function\n",
    "response = awsLambda.create_function(\n",
    "    FunctionName='weisman-test-created-from-boto3',\n",
    "    Runtime='python3.8',\n",
    "    Role='arn:aws:iam::475434563362:role/service-role/weisman-test-role-03ak8xfv', # copied from IAM\n",
    "    Handler='string',\n",
    "    Code={\n",
    "      'ZipFile': open('reference/deploy.zip', 'rb').read()\n",
    "    },\n",
    "    Description='Create a hello, world Lambda using boto3',\n",
    "    Timeout=123,\n",
    "    Publish=False)\n",
    "\n",
    "response['ResponseMetadata']['HTTPStatusCode']"
   ]
  },
  {
   "cell_type": "code",
   "execution_count": 35,
   "metadata": {},
   "outputs": [
    {
     "data": {
      "text/plain": [
       "{'ResponseMetadata': {'RequestId': '7ab72225-6d65-494b-8384-7a7a7164da34',\n",
       "  'HTTPStatusCode': 200,\n",
       "  'HTTPHeaders': {'date': 'Wed, 24 Feb 2021 22:33:09 GMT',\n",
       "   'content-type': 'application/json',\n",
       "   'content-length': '134',\n",
       "   'connection': 'keep-alive',\n",
       "   'x-amzn-requestid': '7ab72225-6d65-494b-8384-7a7a7164da34',\n",
       "   'x-amz-function-error': 'Unhandled',\n",
       "   'x-amzn-remapped-content-length': '0',\n",
       "   'x-amz-executed-version': '$LATEST',\n",
       "   'x-amzn-trace-id': 'root=1-6036d425-6bf59ef7429684cd737c5dfa;sampled=0'},\n",
       "  'RetryAttempts': 0},\n",
       " 'StatusCode': 200,\n",
       " 'FunctionError': 'Unhandled',\n",
       " 'ExecutedVersion': '$LATEST',\n",
       " 'Payload': <botocore.response.StreamingBody at 0x18d0fc39880>}"
      ]
     },
     "execution_count": 35,
     "metadata": {},
     "output_type": "execute_result"
    }
   ],
   "source": [
    "# Execute a Lambda function\n",
    "response = awsLambda.invoke(FunctionName='weisman-test-created-from-boto3',\n",
    "                            InvocationType='RequestResponse')\n",
    "response"
   ]
  },
  {
   "cell_type": "code",
   "execution_count": 37,
   "metadata": {},
   "outputs": [
    {
     "data": {
      "text/plain": [
       "204"
      ]
     },
     "execution_count": 37,
     "metadata": {},
     "output_type": "execute_result"
    }
   ],
   "source": [
    "# Delete a Lambda function\n",
    "response = awsLambda.delete_function(FunctionName='weisman-test-created-from-boto3')\n",
    "response['ResponseMetadata']['HTTPStatusCode']"
   ]
  },
  {
   "cell_type": "code",
   "execution_count": null,
   "metadata": {},
   "outputs": [],
   "source": []
  }
 ],
 "metadata": {
  "kernelspec": {
   "display_name": "pft",
   "language": "python",
   "name": "pft"
  },
  "language_info": {
   "codemirror_mode": {
    "name": "ipython",
    "version": 3
   },
   "file_extension": ".py",
   "mimetype": "text/x-python",
   "name": "python",
   "nbconvert_exporter": "python",
   "pygments_lexer": "ipython3",
   "version": "3.8.5"
  }
 },
 "nbformat": 4,
 "nbformat_minor": 4
}
