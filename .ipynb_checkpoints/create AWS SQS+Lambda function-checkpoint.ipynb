{
 "cells": [
  {
   "cell_type": "raw",
   "metadata": {},
   "source": [
    "'''\n",
    "Notebook: Create AWS Step function\n",
    "Author: Jeff Weisman\n",
    "Date Created: 2021-03-24\n",
    "Description: Creating a AWS queue (SQS) with Lambda Functions from code instead of directly in mgmt console\n",
    "Inspiration: FQA project\n",
    "Note: Need to create SQS to use in Lambda processing\n",
    "'''"
   ]
  },
  {
   "cell_type": "code",
   "execution_count": null,
   "metadata": {},
   "outputs": [],
   "source": [
    "# Import packages\n",
    "import os\n",
    "from zipfile import ZipFile\n",
    "import boto3\n",
    "import pprint"
   ]
  },
  {
   "cell_type": "code",
   "execution_count": null,
   "metadata": {},
   "outputs": [],
   "source": [
    "# Put credentials file in .aws directory; check if file is found\n",
    "# https://docs.aws.amazon.com/credref/latest/refdocs/file-location.html\n",
    "# %USERPROFILE%\\.aws\\credentials\n",
    "\n",
    "os.listdir(os.environ['USERPROFILE'] + '\\.aws\\\\')"
   ]
  },
  {
   "cell_type": "code",
   "execution_count": null,
   "metadata": {},
   "outputs": [],
   "source": [
    "# Create S3 bucket\n",
    "s3 = boto3.client('s3')\n",
    "response = s3.create_bucket(\n",
    "    Bucket='weisman-sqs-test'\n",
    ")\n",
    "\n",
    "pprint.pprint(response)"
   ]
  },
  {
   "cell_type": "code",
   "execution_count": null,
   "metadata": {},
   "outputs": [],
   "source": [
    "sqs.delete_queue(QueueUrl='https://queue.amazonaws.com/475434563362/weisman-sqs-test')"
   ]
  },
  {
   "cell_type": "code",
   "execution_count": null,
   "metadata": {},
   "outputs": [],
   "source": [
    "# Instantiate SQS client\n",
    "sqs = boto3.client('sqs', 'us-east-1')\n",
    "\n",
    "# Create a queue\n",
    "response = sqs.create_queue(\n",
    "    QueueName='weisman-sqs-test',\n",
    "    Attributes={\n",
    "        'DelaySeconds': '0',\n",
    "        'ReceiveMessageWaitTimeSeconds': '0',\n",
    "        'VisibilityTimeout':'1'\n",
    "    }\n",
    ")\n",
    "\n",
    "pprint.pprint(response)"
   ]
  },
  {
   "cell_type": "raw",
   "metadata": {},
   "source": [
    "# Copy of the .py referenced in the next cell\n",
    "import json\n",
    "import boto3\n",
    "\n",
    "s3 = boto3.client(\"s3\")\n",
    "\n",
    "def lambda_handler(event, context):\n",
    "    # TODO implement\n",
    "    message = event[\"Records\"][0][\"body\"]\n",
    "    \n",
    "    s3.put_object(\n",
    "        Bucket='weisman-sqs-test',\n",
    "        Key=\"data.json\",\n",
    "        Body=json.dumps(message))\n",
    "    \n",
    "    return {\n",
    "        'statusCode': 200,\n",
    "        'body': json.dumps(\"Hello from Lambda!\")\n",
    "    }"
   ]
  },
  {
   "cell_type": "code",
   "execution_count": null,
   "metadata": {},
   "outputs": [],
   "source": [
    "# Zip the .py file that contains the lambda function\n",
    "ZipFile('reference/deploy3.zip', mode='w').write('reference/lambda_function3.py')\n",
    "ZipFile('reference/deploy4.zip', mode='w').write('reference/lambda_function4.py')"
   ]
  },
  {
   "cell_type": "code",
   "execution_count": null,
   "metadata": {},
   "outputs": [],
   "source": [
    "# Instantiate Lamba client\n",
    "awsLambda = boto3.client('lambda', 'us-east-1')\n",
    "\n",
    "# Create a Lambda that writes message from queue to S3\n",
    "response1 = awsLambda.create_function(\n",
    "    FunctionName='weisman-sqs-process-test',\n",
    "    Runtime='python3.8',\n",
    "    Role='arn:aws:iam::475434563362:role/service-role/weisman-test-role-03ak8xfv', # copied from IAM\n",
    "    Handler='string',\n",
    "    Code={\n",
    "      'ZipFile': open('reference/deploy3.zip', 'rb').read()\n",
    "    },\n",
    "    Description='Lambda function to process messages from queue',\n",
    "    Timeout=1,\n",
    "    Publish=False,)\n",
    "\n",
    "# Add SQS trigger to Lambda cunction\n",
    "response2 = awsLambda.create_event_source_mapping(\n",
    "    BatchSize=1,\n",
    "    EventSourceArn='arn:aws:sqs:us-east-1:475434563362:weisman-sqs-test',\n",
    "    FunctionName='weisman-sqs-process-test',\n",
    "    MaximumBatchingWindowInSeconds=123\n",
    ")\n",
    "\n",
    "pprint.pprint(response1)\n",
    "pprint.pprint(response2)"
   ]
  },
  {
   "cell_type": "raw",
   "metadata": {},
   "source": [
    "# Copy of the .py referenced in the next cell\n",
    "import json\n",
    "import boto3\n",
    "\n",
    "sqs = boto3.client(\"sqs\")\n",
    "\n",
    "def lambda_handler(event, context):\n",
    "    # TODO implement\n",
    "    message = {\"Name\":\"I am really cool\"}\n",
    "    queue_url = \"https://queue.amazonaws.com/475434563362/weisman-sqs-test\"\n",
    "    \n",
    "    resposne = sqs.send_message(\n",
    "        QueueUrl=queue_url,\n",
    "        MessageBody=.json.dumps(message),\n",
    "        DelaySeconds=0)\n",
    "    \n",
    "    return {\n",
    "        'statusCode': 200,\n",
    "        'body': json.dumps(\"Hello from Lambda!\")\n",
    "    }"
   ]
  },
  {
   "cell_type": "code",
   "execution_count": null,
   "metadata": {},
   "outputs": [],
   "source": [
    "# Create a Lambda function that sends messages to SQS\n",
    "response = awsLambda.create_function(\n",
    "    FunctionName='weisman-sqs-generate-test',\n",
    "    Runtime='python3.8',\n",
    "    Role='arn:aws:iam::475434563362:role/service-role/weisman-test-role-03ak8xfv', # copied from IAM\n",
    "    Handler='string',\n",
    "    Code={\n",
    "      'ZipFile': open('reference/deploy4.zip', 'rb').read()\n",
    "    },\n",
    "    Description='Lambda function to generate messages to send to queue',\n",
    "    Timeout=123,\n",
    "    Publish=False)\n",
    "\n",
    "pprint.pprint(response)"
   ]
  },
  {
   "cell_type": "code",
   "execution_count": null,
   "metadata": {},
   "outputs": [],
   "source": [
    "# Invoke Lambda function to generate a message\n",
    "awsLambda.invoke(\n",
    "    FunctionName='weisman-sqs-generate-test',\n",
    "    InvocationType='Event')"
   ]
  },
  {
   "cell_type": "code",
   "execution_count": null,
   "metadata": {},
   "outputs": [],
   "source": [
    "# Check S3 bucket to see if message successfully got processed\n",
    "response = s3.list_objects(Bucket='weisman-sqs-test')\n",
    "pprint.pprint(response)"
   ]
  }
 ],
 "metadata": {
  "kernelspec": {
   "display_name": "pft",
   "language": "python",
   "name": "pft"
  },
  "language_info": {
   "codemirror_mode": {
    "name": "ipython",
    "version": 3
   },
   "file_extension": ".py",
   "mimetype": "text/x-python",
   "name": "python",
   "nbconvert_exporter": "python",
   "pygments_lexer": "ipython3",
   "version": "3.8.5"
  }
 },
 "nbformat": 4,
 "nbformat_minor": 4
}
