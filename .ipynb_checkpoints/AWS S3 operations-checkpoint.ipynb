{
 "cells": [
  {
   "cell_type": "raw",
   "metadata": {},
   "source": [
    "'''\n",
    "Notebook: AWS S3 operations\n",
    "Author: Jeff Weisman\n",
    "Date Created: 2021-02-21\n",
    "Description: Practicing moving data around with S3\n",
    "Inspiration: None\n",
    "Note: None\n",
    "'''"
   ]
  },
  {
   "cell_type": "code",
   "execution_count": 1,
   "metadata": {},
   "outputs": [],
   "source": [
    "# Import packages\n",
    "import os\n",
    "import boto3"
   ]
  },
  {
   "cell_type": "code",
   "execution_count": 7,
   "metadata": {},
   "outputs": [
    {
     "data": {
      "text/plain": [
       "['credentials']"
      ]
     },
     "execution_count": 7,
     "metadata": {},
     "output_type": "execute_result"
    }
   ],
   "source": [
    "# Put credentials file in .aws directory; check if file is found\n",
    "# https://docs.aws.amazon.com/credref/latest/refdocs/file-location.html\n",
    "# %USERPROFILE%\\.aws\\credentials\n",
    "\n",
    "os.listdir(os.environ['USERPROFILE'] + '\\.aws\\\\')"
   ]
  },
  {
   "cell_type": "code",
   "execution_count": 8,
   "metadata": {},
   "outputs": [],
   "source": [
    "# Instantiate S3 client\n",
    "s3 = boto3.client('s3', verify=True)"
   ]
  },
  {
   "cell_type": "code",
   "execution_count": null,
   "metadata": {},
   "outputs": [],
   "source": [
    "# Check what S3 methods are available\n",
    "dir(s3)"
   ]
  },
  {
   "cell_type": "code",
   "execution_count": 11,
   "metadata": {},
   "outputs": [
    {
     "name": "stdout",
     "output_type": "stream",
     "text": [
      "[{'Name': 'ml-guild-project-pft-comments', 'CreationDate': datetime.datetime(2021, 2, 15, 23, 23, 18, tzinfo=tzutc())}]\n"
     ]
    }
   ],
   "source": [
    "# List buckets in S3\n",
    "buckets = s3.list_buckets()\n",
    "print(buckets['Buckets'])"
   ]
  },
  {
   "cell_type": "code",
   "execution_count": 12,
   "metadata": {},
   "outputs": [
    {
     "data": {
      "text/plain": [
       "{'ResponseMetadata': {'RequestId': 'A01676FD20E92367',\n",
       "  'HostId': '/iccw2mq8ADQG/LdHL/C0/wGruFTJaLg2qLV/fKT+zEAKkyEc2g6fISYIv0rHmngTBUO/FmdulM=',\n",
       "  'HTTPStatusCode': 200,\n",
       "  'HTTPHeaders': {'x-amz-id-2': '/iccw2mq8ADQG/LdHL/C0/wGruFTJaLg2qLV/fKT+zEAKkyEc2g6fISYIv0rHmngTBUO/FmdulM=',\n",
       "   'x-amz-request-id': 'A01676FD20E92367',\n",
       "   'date': 'Sun, 21 Feb 2021 21:10:23 GMT',\n",
       "   'location': '/jeff-awesome-bucket-practice-20210221',\n",
       "   'content-length': '0',\n",
       "   'server': 'AmazonS3'},\n",
       "  'RetryAttempts': 0},\n",
       " 'Location': '/jeff-awesome-bucket-practice-20210221'}"
      ]
     },
     "execution_count": 12,
     "metadata": {},
     "output_type": "execute_result"
    }
   ],
   "source": [
    "# Create bucket in S3\n",
    "s3.create_bucket(Bucket='jeff-awesome-bucket-practice-20210221')"
   ]
  },
  {
   "cell_type": "code",
   "execution_count": 13,
   "metadata": {},
   "outputs": [
    {
     "data": {
      "text/plain": [
       "{'ResponseMetadata': {'RequestId': '5C7835B3B5D75BA5',\n",
       "  'HostId': 'm85XnAvexbj5q3I02THS6yhnR+ActunqyKotA7E+3QK7bNjhUrXtVawKVhm4P1hE+SjtFYvXWxE=',\n",
       "  'HTTPStatusCode': 204,\n",
       "  'HTTPHeaders': {'x-amz-id-2': 'm85XnAvexbj5q3I02THS6yhnR+ActunqyKotA7E+3QK7bNjhUrXtVawKVhm4P1hE+SjtFYvXWxE=',\n",
       "   'x-amz-request-id': '5C7835B3B5D75BA5',\n",
       "   'date': 'Sun, 21 Feb 2021 21:10:46 GMT',\n",
       "   'server': 'AmazonS3'},\n",
       "  'RetryAttempts': 0}}"
      ]
     },
     "execution_count": 13,
     "metadata": {},
     "output_type": "execute_result"
    }
   ],
   "source": [
    "# Delete bucket in S3\n",
    "s3.delete_bucket(Bucket='jeff-awesome-bucket-practice-20210221')"
   ]
  },
  {
   "cell_type": "code",
   "execution_count": 15,
   "metadata": {},
   "outputs": [
    {
     "data": {
      "text/plain": [
       "[{'Key': 'data/cleaned/articles.csv',\n",
       "  'LastModified': datetime.datetime(2021, 2, 15, 23, 23, 48, tzinfo=tzutc()),\n",
       "  'ETag': '\"df0f699362bc4344ee4ce1389058399e-39\"',\n",
       "  'Size': 319190589,\n",
       "  'StorageClass': 'STANDARD',\n",
       "  'Owner': {'DisplayName': 'jweisman11',\n",
       "   'ID': '89319843744e157e2535a01c25818b9603b9b0b65b7f7294550547418e4a7424'}},\n",
       " {'Key': 'data/cleaned/comments.csv',\n",
       "  'LastModified': datetime.datetime(2021, 2, 15, 23, 25, 23, tzinfo=tzutc()),\n",
       "  'ETag': '\"0d1eb807d3818febc6aa7de671ef620d-278\"',\n",
       "  'Size': 2330694108,\n",
       "  'StorageClass': 'STANDARD',\n",
       "  'Owner': {'DisplayName': 'jweisman11',\n",
       "   'ID': '89319843744e157e2535a01c25818b9603b9b0b65b7f7294550547418e4a7424'}}]"
      ]
     },
     "execution_count": 15,
     "metadata": {},
     "output_type": "execute_result"
    }
   ],
   "source": [
    "# List objects in S3 bucket\n",
    "s3.list_objects(Bucket='ml-guild-project-pft-comments')['Contents']"
   ]
  },
  {
   "cell_type": "code",
   "execution_count": 26,
   "metadata": {},
   "outputs": [],
   "source": [
    "# Upload object to S3 bucket\n",
    "\n",
    "# Create text file\n",
    "f = open('sample.txt', 'w+')\n",
    "f.close()\n",
    "\n",
    "s3.upload_file(Filename='sample.txt',\n",
    "               Bucket='ml-guild-project-pft-comments',\n",
    "               Key='sample.txt')"
   ]
  },
  {
   "cell_type": "code",
   "execution_count": 27,
   "metadata": {},
   "outputs": [
    {
     "data": {
      "text/plain": [
       "[{'Key': 'sample.txt',\n",
       "  'LastModified': datetime.datetime(2021, 2, 21, 21, 20, tzinfo=tzutc()),\n",
       "  'ETag': '\"d41d8cd98f00b204e9800998ecf8427e\"',\n",
       "  'Size': 0,\n",
       "  'StorageClass': 'STANDARD',\n",
       "  'Owner': {'DisplayName': 'jweisman11',\n",
       "   'ID': '89319843744e157e2535a01c25818b9603b9b0b65b7f7294550547418e4a7424'}}]"
      ]
     },
     "execution_count": 27,
     "metadata": {},
     "output_type": "execute_result"
    }
   ],
   "source": [
    "# Confirm file has been uploaded successfully\n",
    "s3.list_objects(Bucket='ml-guild-project-pft-comments')['Contents'][2:]"
   ]
  },
  {
   "cell_type": "code",
   "execution_count": 28,
   "metadata": {},
   "outputs": [],
   "source": [
    "# Download object from S3 bucket\n",
    "s3.download_file(Bucket='ml-guild-project-pft-comments',\n",
    "                 Key='sample.txt',\n",
    "                 Filename='sample.txt')"
   ]
  },
  {
   "cell_type": "code",
   "execution_count": 29,
   "metadata": {},
   "outputs": [
    {
     "data": {
      "text/plain": [
       "{'ResponseMetadata': {'RequestId': '7NEPDGAN6K1JBMEY',\n",
       "  'HostId': 'QAkDRQYOOc5Anzr/5AtQvdqG6QhDkP8vBSzLFUUyefPwbe2XDdQibPjJD1J9mesER5Iukwzwo8I=',\n",
       "  'HTTPStatusCode': 204,\n",
       "  'HTTPHeaders': {'x-amz-id-2': 'QAkDRQYOOc5Anzr/5AtQvdqG6QhDkP8vBSzLFUUyefPwbe2XDdQibPjJD1J9mesER5Iukwzwo8I=',\n",
       "   'x-amz-request-id': '7NEPDGAN6K1JBMEY',\n",
       "   'date': 'Sun, 21 Feb 2021 21:20:01 GMT',\n",
       "   'server': 'AmazonS3'},\n",
       "  'RetryAttempts': 0}}"
      ]
     },
     "execution_count": 29,
     "metadata": {},
     "output_type": "execute_result"
    }
   ],
   "source": [
    "# Delete object locally\n",
    "os.remove('sample.txt')\n",
    "\n",
    "# Delete object in S3 bucket\n",
    "s3.delete_object(Bucket='ml-guild-project-pft-comments',\n",
    "                 Key='sample.txt')"
   ]
  }
 ],
 "metadata": {
  "kernelspec": {
   "display_name": "Python 3",
   "language": "python",
   "name": "python3"
  },
  "language_info": {
   "codemirror_mode": {
    "name": "ipython",
    "version": 3
   },
   "file_extension": ".py",
   "mimetype": "text/x-python",
   "name": "python",
   "nbconvert_exporter": "python",
   "pygments_lexer": "ipython3",
   "version": "3.7.7"
  }
 },
 "nbformat": 4,
 "nbformat_minor": 4
}
