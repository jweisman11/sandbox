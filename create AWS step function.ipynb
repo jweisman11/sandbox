{
 "cells": [
  {
   "cell_type": "raw",
   "metadata": {},
   "source": [
    "'''\n",
    "Notebook: Create AWS Step function\n",
    "Author: Jeff Weisman\n",
    "Date Created: 2021-02-24\n",
    "Description: Creating a step function from code instead of directly in mgmt console\n",
    "Inspiration: FQA project\n",
    "Note: Need to create two Lambda functions to use in Step Function\n",
    "'''"
   ]
  },
  {
   "cell_type": "code",
   "execution_count": 3,
   "metadata": {},
   "outputs": [],
   "source": [
    "# Import packages\n",
    "import os\n",
    "from zipfile import ZipFile\n",
    "import boto3"
   ]
  },
  {
   "cell_type": "code",
   "execution_count": 4,
   "metadata": {},
   "outputs": [
    {
     "data": {
      "text/plain": [
       "['credentials']"
      ]
     },
     "execution_count": 4,
     "metadata": {},
     "output_type": "execute_result"
    }
   ],
   "source": [
    "# Put credentials file in .aws directory; check if file is found\n",
    "# https://docs.aws.amazon.com/credref/latest/refdocs/file-location.html\n",
    "# %USERPROFILE%\\.aws\\credentials\n",
    "\n",
    "os.listdir(os.environ['USERPROFILE'] + '\\.aws\\\\')"
   ]
  },
  {
   "cell_type": "code",
   "execution_count": 13,
   "metadata": {},
   "outputs": [],
   "source": [
    "# Zip the .py file that contains the lambda function\n",
    "ZipFile('reference/deploy1.zip', mode='w').write('reference/lambda_function1.py')\n",
    "ZipFile('reference/deploy2.zip', mode='w').write('reference/lambda_function2.py')"
   ]
  },
  {
   "cell_type": "code",
   "execution_count": 14,
   "metadata": {},
   "outputs": [
    {
     "name": "stdout",
     "output_type": "stream",
     "text": [
      "{'ResponseMetadata': {'RequestId': '12fa8d4b-cd26-4ebf-8a93-659ef937b9b0', 'HTTPStatusCode': 201, 'HTTPHeaders': {'date': 'Wed, 24 Feb 2021 23:15:42 GMT', 'content-type': 'application/json', 'content-length': '963', 'connection': 'keep-alive', 'x-amzn-requestid': '12fa8d4b-cd26-4ebf-8a93-659ef937b9b0'}, 'RetryAttempts': 0}, 'FunctionName': 'weisman-lambda1-pass-data', 'FunctionArn': 'arn:aws:lambda:us-east-1:475434563362:function:weisman-lambda1-pass-data', 'Runtime': 'python3.8', 'Role': 'arn:aws:iam::475434563362:role/service-role/weisman-test-role-03ak8xfv', 'Handler': 'string', 'CodeSize': 433, 'Description': 'Step 1 of 2 in Step Function to pass data', 'Timeout': 123, 'MemorySize': 128, 'LastModified': '2021-02-24T23:15:42.770+0000', 'CodeSha256': '52Jc4mnlT8dDZWmT5r2PmCuG9UV+DEl38zqhWPgUM5Y=', 'Version': '$LATEST', 'TracingConfig': {'Mode': 'PassThrough'}, 'RevisionId': '69110def-00bb-4aec-984e-afae537551e7', 'State': 'Active', 'LastUpdateStatus': 'Successful', 'PackageType': 'Zip'} {'ResponseMetadata': {'RequestId': 'efc823b5-78b8-49b1-83b4-9bf9bd4cb38b', 'HTTPStatusCode': 201, 'HTTPHeaders': {'date': 'Wed, 24 Feb 2021 23:15:43 GMT', 'content-type': 'application/json', 'content-length': '963', 'connection': 'keep-alive', 'x-amzn-requestid': 'efc823b5-78b8-49b1-83b4-9bf9bd4cb38b'}, 'RetryAttempts': 0}, 'FunctionName': 'weisman-lambda2-pass-data', 'FunctionArn': 'arn:aws:lambda:us-east-1:475434563362:function:weisman-lambda2-pass-data', 'Runtime': 'python3.8', 'Role': 'arn:aws:iam::475434563362:role/service-role/weisman-test-role-03ak8xfv', 'Handler': 'string', 'CodeSize': 433, 'Description': 'Step 2 of 2 in Step Function to pass data', 'Timeout': 123, 'MemorySize': 128, 'LastModified': '2021-02-24T23:15:42.940+0000', 'CodeSha256': '4kOlOE6D/r4J7A6/nKpyvAwo2q0WLGcl2oMapuxpFWs=', 'Version': '$LATEST', 'TracingConfig': {'Mode': 'PassThrough'}, 'RevisionId': 'cef38d97-9914-4185-8105-2c2ccabcd524', 'State': 'Active', 'LastUpdateStatus': 'Successful', 'PackageType': 'Zip'}\n"
     ]
    }
   ],
   "source": [
    "awsLambda = boto3.client('lambda', 'us-east-1')\n",
    "\n",
    "# Create a Lambda function #1\n",
    "response1 = awsLambda.create_function(\n",
    "    FunctionName='weisman-lambda1-pass-data',\n",
    "    Runtime='python3.8',\n",
    "    Role='arn:aws:iam::475434563362:role/service-role/weisman-test-role-03ak8xfv', # copied from IAM\n",
    "    Handler='string',\n",
    "    Code={\n",
    "      'ZipFile': open('reference/deploy1.zip', 'rb').read()\n",
    "    },\n",
    "    Description='Step 1 of 2 in Step Function to pass data',\n",
    "    Timeout=123,\n",
    "    Publish=False)\n",
    "\n",
    "# Create a Lambda function #1\n",
    "response2 = awsLambda.create_function(\n",
    "    FunctionName='weisman-lambda2-pass-data',\n",
    "    Runtime='python3.8',\n",
    "    Role='arn:aws:iam::475434563362:role/service-role/weisman-test-role-03ak8xfv', # copied from IAM\n",
    "    Handler='string',\n",
    "    Code={\n",
    "      'ZipFile': open('reference/deploy2.zip', 'rb').read()\n",
    "    },\n",
    "    Description='Step 2 of 2 in Step Function to pass data',\n",
    "    Timeout=123,\n",
    "    Publish=False)\n",
    "\n",
    "print(response1, response2)"
   ]
  },
  {
   "cell_type": "code",
   "execution_count": 10,
   "metadata": {},
   "outputs": [],
   "source": [
    "# Create Step Function\n",
    "sfn = boto3.client('stepfunctions', 'us-east-1')"
   ]
  },
  {
   "cell_type": "code",
   "execution_count": 20,
   "metadata": {},
   "outputs": [],
   "source": [
    "# Create definition using Amazon States Language \n",
    "definition = \"\"\"{\n",
    "  \"Comment\": \"My test to prove passing parameters between Lambdas\",\n",
    "  \"StartAt\": \"weisman-lambda1-pass-data\",\n",
    "  \"States\": {\n",
    "    \"weisman-lambda1-pass-data\": {\n",
    "      \"Type\": \"Task\",\n",
    "      \"Resource\": \"arn:aws:lambda:us-east-1:475434563362:function:weisman-lambda1-pass-data\",\n",
    "      \"ResultPath\": \"$\",\n",
    "      \"Next\": \"weisman-lambda2-pass-data\"\n",
    "    },\n",
    "      \"weisman-lambda2-pass-data\": {\n",
    "      \"Type\": \"Task\",\n",
    "      \"Resource\": \"arn:aws:lambda:us-east-1:475434563362:function:weisman-lambda2-pass-data\",\n",
    "      \"End\": true\n",
    "    }\n",
    "  }\n",
    "}\"\"\""
   ]
  },
  {
   "cell_type": "code",
   "execution_count": 22,
   "metadata": {},
   "outputs": [
    {
     "data": {
      "text/plain": [
       "{'stateMachineArn': 'arn:aws:states:us-east-1:475434563362:stateMachine:weisman-test-created-from-boto3',\n",
       " 'creationDate': datetime.datetime(2021, 2, 24, 18, 23, 48, 706000, tzinfo=tzlocal()),\n",
       " 'ResponseMetadata': {'RequestId': 'c0b2edb5-c019-4fc0-81ce-42f63f314ae4',\n",
       "  'HTTPStatusCode': 200,\n",
       "  'HTTPHeaders': {'x-amzn-requestid': 'c0b2edb5-c019-4fc0-81ce-42f63f314ae4',\n",
       "   'content-type': 'application/x-amz-json-1.0',\n",
       "   'content-length': '136'},\n",
       "  'RetryAttempts': 0}}"
      ]
     },
     "execution_count": 22,
     "metadata": {},
     "output_type": "execute_result"
    }
   ],
   "source": [
    "# Create Step Function\n",
    "response = sfn.create_state_machine(\n",
    "    name='weisman-test-created-from-boto3',\n",
    "    definition=definition,\n",
    "    roleArn='arn:aws:iam::475434563362:role/service-role/StepFunctions-Helloworld-role-1b31bef2', # copied from IAM\n",
    "    type='STANDARD')\n",
    "\n",
    "response"
   ]
  },
  {
   "cell_type": "code",
   "execution_count": null,
   "metadata": {},
   "outputs": [],
   "source": []
  }
 ],
 "metadata": {
  "kernelspec": {
   "display_name": "pft",
   "language": "python",
   "name": "pft"
  },
  "language_info": {
   "codemirror_mode": {
    "name": "ipython",
    "version": 3
   },
   "file_extension": ".py",
   "mimetype": "text/x-python",
   "name": "python",
   "nbconvert_exporter": "python",
   "pygments_lexer": "ipython3",
   "version": "3.8.5"
  }
 },
 "nbformat": 4,
 "nbformat_minor": 4
}
