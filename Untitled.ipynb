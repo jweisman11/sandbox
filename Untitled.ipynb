{
 "cells": [
  {
   "cell_type": "code",
   "execution_count": 35,
   "metadata": {},
   "outputs": [],
   "source": [
    "def print_rangoli(size):\n",
    "    # your code goes here\n",
    "    alphabet = 'abcdefghijklmnopqrstuvwxyz'\n",
    "    alphabet_subset = alphabet[:size]\n",
    "    mid_first = '-'.join(alphabet_subset[::-1])\n",
    "    mid_second = mid_first[:-1][::-1]\n",
    "    middle = mid_first + mid_second\n",
    "    width = len(middle)\n",
    "    pattern = [alphabet_subset[i].center(width, '-') for i in range(size-1, -1, -1)]\n",
    "    print('\\n'.join(pattern + [middle] + pattern[::-1]))"
   ]
  },
  {
   "cell_type": "code",
   "execution_count": 36,
   "metadata": {},
   "outputs": [
    {
     "name": "stdout",
     "output_type": "stream",
     "text": [
      "--------e--------\n",
      "--------d--------\n",
      "--------c--------\n",
      "--------b--------\n",
      "--------a--------\n",
      "e-d-c-b-a-b-c-d-e\n",
      "--------a--------\n",
      "--------b--------\n",
      "--------c--------\n",
      "--------d--------\n",
      "--------e--------\n"
     ]
    }
   ],
   "source": [
    "print_rangoli(5)"
   ]
  },
  {
   "cell_type": "code",
   "execution_count": null,
   "metadata": {},
   "outputs": [],
   "source": []
  },
  {
   "cell_type": "code",
   "execution_count": null,
   "metadata": {},
   "outputs": [],
   "source": [
    "--------e--------\n",
    "------e-d-e------\n",
    "----e-d-c-d-e----\n",
    "--e-d-c-b-c-d-e--\n",
    "e-d-c-b-a-b-c-d-e\n",
    "--e-d-c-b-c-d-e--\n",
    "----e-d-c-d-e----\n",
    "------e-d-e------\n",
    "--------e--------"
   ]
  }
 ],
 "metadata": {
  "kernelspec": {
   "display_name": "Python 3",
   "language": "python",
   "name": "python3"
  },
  "language_info": {
   "codemirror_mode": {
    "name": "ipython",
    "version": 3
   },
   "file_extension": ".py",
   "mimetype": "text/x-python",
   "name": "python",
   "nbconvert_exporter": "python",
   "pygments_lexer": "ipython3",
   "version": "3.7.7"
  }
 },
 "nbformat": 4,
 "nbformat_minor": 4
}
