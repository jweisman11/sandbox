{
 "cells": [
  {
   "cell_type": "code",
   "execution_count": 21,
   "metadata": {},
   "outputs": [],
   "source": [
    "from pprint import pprint as pp"
   ]
  },
  {
   "cell_type": "code",
   "execution_count": 26,
   "metadata": {},
   "outputs": [],
   "source": [
    "import collections\n",
    "def flatten(dictionary, parent_key=False, separator='.'):\n",
    "    \"\"\"\n",
    "    Turn a nested dictionary into a flattened dictionary\n",
    "    :param dictionary: The dictionary to flatten\n",
    "    :param parent_key: The string to prepend to dictionary's keys\n",
    "    :param separator: The string used to separate flattened keys\n",
    "    :return: A flattened dictionary\n",
    "    \"\"\"\n",
    "\n",
    "    items = []\n",
    "    for key, value in dictionary.items():\n",
    "        new_key = str(parent_key) + separator + key if parent_key else key\n",
    "        if isinstance(value, collections.MutableMapping):\n",
    "            items.extend(flatten(value, new_key, separator).items())\n",
    "        elif isinstance(value, list):\n",
    "            for k, v in enumerate(value):\n",
    "                items.extend(flatten({str(k): v}, new_key).items())\n",
    "        else:\n",
    "            items.append((new_key, value))\n",
    "    return dict(items)"
   ]
  },
  {
   "cell_type": "code",
   "execution_count": 29,
   "metadata": {},
   "outputs": [
    {
     "name": "stdout",
     "output_type": "stream",
     "text": [
      "{'a': 1,\n",
      " 'b': 2,\n",
      " 'c': {'aa': 11,\n",
      "       'bb': 22,\n",
      "       'cc': {'aaa': 111},\n",
      "       'd': [{'dd': 'True',\n",
      "              'ee': 'False'},\n",
      "             [{'ff': 11}]]}}\n"
     ]
    }
   ],
   "source": [
    "testData = {\n",
    "        'a':1,\n",
    "        'b':2,\n",
    "        'c':{\n",
    "            'aa':11,\n",
    "            'bb':22,\n",
    "            'cc':{\n",
    "                'aaa':111\n",
    "            },\n",
    "        'd':[\n",
    "            {'dd':\"True\",\n",
    "             'ee':\"False\",\n",
    "            },\n",
    "            [\n",
    "            {'ff':11}    \n",
    "            ]\n",
    "        ]\n",
    "        }\n",
    "    }\n",
    "pp(testData, width=10)"
   ]
  },
  {
   "cell_type": "code",
   "execution_count": 30,
   "metadata": {},
   "outputs": [
    {
     "name": "stdout",
     "output_type": "stream",
     "text": [
      "{'a': 1,\n",
      " 'b': 2,\n",
      " 'c.aa': 11,\n",
      " 'c.bb': 22,\n",
      " 'c.cc.aaa': 111,\n",
      " 'c.d.0.dd': 'True',\n",
      " 'c.d.0.ee': 'False',\n",
      " 'c.d.1.0.ff': 11}\n"
     ]
    }
   ],
   "source": [
    "pp(flatten(testData), width=10)"
   ]
  },
  {
   "cell_type": "code",
   "execution_count": null,
   "metadata": {},
   "outputs": [],
   "source": []
  }
 ],
 "metadata": {
  "kernelspec": {
   "display_name": "Python 3",
   "language": "python",
   "name": "python3"
  },
  "language_info": {
   "codemirror_mode": {
    "name": "ipython",
    "version": 3
   },
   "file_extension": ".py",
   "mimetype": "text/x-python",
   "name": "python",
   "nbconvert_exporter": "python",
   "pygments_lexer": "ipython3",
   "version": "3.7.7"
  }
 },
 "nbformat": 4,
 "nbformat_minor": 4
}
